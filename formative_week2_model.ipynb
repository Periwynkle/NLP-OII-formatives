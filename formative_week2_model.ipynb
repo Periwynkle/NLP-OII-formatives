{
 "cells": [
  {
   "cell_type": "markdown",
   "metadata": {},
   "source": [
    "### Install NLTK and Import Libraries\n",
    "\n",
    "NLTK: https://www.nltk.org/install.html\n",
    "<br>NLTK data: https://www.nltk.org/data.html\n",
    "<br>Anaconda: https://anaconda.org/anaconda/nltk\n",
    "\n",
    "NLTK Interface: http://www.nltk.org/howto/wordnet.html \n",
    "<br>Documentation: https://www.nltk.org/api/nltk.corpus.reader.html#module-nltk.corpus.reader.wordnet"
   ]
  },
  {
   "cell_type": "code",
   "execution_count": 1,
   "metadata": {},
   "outputs": [],
   "source": [
    "#!conda install nltk\n",
    "#!conda install -c anaconda nltk "
   ]
  },
  {
   "cell_type": "code",
   "execution_count": 2,
   "metadata": {},
   "outputs": [
    {
     "data": {
      "text/plain": [
       "'3.3'"
      ]
     },
     "execution_count": 2,
     "metadata": {},
     "output_type": "execute_result"
    }
   ],
   "source": [
    "import nltk\n",
    "#nltk.download()\n",
    "#nltk.download('wordnet')\n",
    "nltk.__version__"
   ]
  },
  {
   "cell_type": "code",
   "execution_count": 3,
   "metadata": {},
   "outputs": [],
   "source": [
    "import numpy as np\n",
    "import pandas as pd\n",
    "import seaborn as sns\n",
    "import matplotlib.pyplot as plt\n",
    "from nltk.corpus import wordnet as wn\n",
    "\n",
    "pd.set_option('display.max_colwidth', -1)\n",
    "sns.set(style='whitegrid', color_codes=True)"
   ]
  },
  {
   "cell_type": "markdown",
   "metadata": {},
   "source": [
    "### Setup of Dataframe"
   ]
  },
  {
   "cell_type": "code",
   "execution_count": 4,
   "metadata": {},
   "outputs": [
    {
     "name": "stdout",
     "output_type": "stream",
     "text": [
      "Number of words: 147306\n",
      "Number of lemmas: 147306\n",
      "Number of synsets: 117659\n"
     ]
    }
   ],
   "source": [
    "words = list(wn.words())\n",
    "lemmas = list(wn.all_lemma_names())\n",
    "synsets = list(wn.all_synsets())\n",
    "print('Number of words:', len(words))\n",
    "print('Number of lemmas:', len(lemmas))\n",
    "print('Number of synsets:', len(synsets))"
   ]
  },
  {
   "cell_type": "markdown",
   "metadata": {},
   "source": [
    "Confirm that words and lemmas are the same."
   ]
  },
  {
   "cell_type": "code",
   "execution_count": 5,
   "metadata": {},
   "outputs": [
    {
     "name": "stdout",
     "output_type": "stream",
     "text": [
      "[\"'hood\", \"'s_gravenhage\", \"'tween\", \"'tween_decks\", '.22', '.22-caliber', '.22-calibre', '.22_caliber', '.22_calibre', '.38-caliber', '.38-calibre', '.38_caliber', '.38_calibre', '.45-caliber', '.45-calibre', '.45_caliber', '.45_calibre', '0', '1', '1-dodecanol', '1-hitter', '10', '10-membered', '100', '1000', '10000', '100000', '1000000', '1000000000', '1000000000000', '1000th', '100th', '101', '101st', '105', '105th', '10th', '11', '11-plus', '110', '110th', '115', '115th', '11_november', '11th', '12', '12-tone_music', '12-tone_system', '120', '120th', '125', '125th', '12th', '13', '130', '130th', '135', '135th', '13th', '14', '140', '140th', '144', '145', '145th', '14_july', '14th', '15', '150', '150th', '1530s', '155', '155th', '15_august_1945', '15_may_organization', '15_minutes', '15th', '16', '160', '160th', '165', '165th', '16_pf', '16th', '17', '170', '170th', '1728', '175', '1750s', '175th', '1760s', '1770s', '1780s', '1790s', '17_november', '17th', '18', '18-karat_gold', '180']\n"
     ]
    }
   ],
   "source": [
    "print(sorted(lemmas)[:100])"
   ]
  },
  {
   "cell_type": "code",
   "execution_count": 6,
   "metadata": {},
   "outputs": [
    {
     "name": "stdout",
     "output_type": "stream",
     "text": [
      "[\"'hood\", \"'s_gravenhage\", \"'tween\", \"'tween_decks\", '.22', '.22-caliber', '.22-calibre', '.22_caliber', '.22_calibre', '.38-caliber', '.38-calibre', '.38_caliber', '.38_calibre', '.45-caliber', '.45-calibre', '.45_caliber', '.45_calibre', '0', '1', '1-dodecanol', '1-hitter', '10', '10-membered', '100', '1000', '10000', '100000', '1000000', '1000000000', '1000000000000', '1000th', '100th', '101', '101st', '105', '105th', '10th', '11', '11-plus', '110', '110th', '115', '115th', '11_november', '11th', '12', '12-tone_music', '12-tone_system', '120', '120th', '125', '125th', '12th', '13', '130', '130th', '135', '135th', '13th', '14', '140', '140th', '144', '145', '145th', '14_july', '14th', '15', '150', '150th', '1530s', '155', '155th', '15_august_1945', '15_may_organization', '15_minutes', '15th', '16', '160', '160th', '165', '165th', '16_pf', '16th', '17', '170', '170th', '1728', '175', '1750s', '175th', '1760s', '1770s', '1780s', '1790s', '17_november', '17th', '18', '18-karat_gold', '180']\n"
     ]
    }
   ],
   "source": [
    "print(sorted(words)[:100])"
   ]
  },
  {
   "cell_type": "markdown",
   "metadata": {},
   "source": [
    "Verify how to translate a word-synset pair into a lemma, which allows for its antonym to be obtained. Note that the first lemma in the lemma list corresponds to the word-synset pair."
   ]
  },
  {
   "cell_type": "code",
   "execution_count": 7,
   "metadata": {},
   "outputs": [
    {
     "name": "stdout",
     "output_type": "stream",
     "text": [
      "[Synset('return.n.06'), Synset('take.n.02')]\n",
      "\n",
      "Synset('return.n.06')\n",
      "[Lemma('return.n.06.return'), Lemma('return.n.06.issue'), Lemma('return.n.06.take'), Lemma('return.n.06.takings'), Lemma('return.n.06.proceeds'), Lemma('return.n.06.yield'), Lemma('return.n.06.payoff')]\n",
      "Lemma('return.n.06.return')\n",
      "[]\n",
      "\n",
      "Synset('take.n.02')\n",
      "[Lemma('take.n.02.take')]\n",
      "Lemma('take.n.02.take')\n",
      "[]\n"
     ]
    }
   ],
   "source": [
    "take_n_synsets = wn.synsets('take', pos='n')\n",
    "print(take_n_synsets)\n",
    "print()\n",
    "print(take_n_synsets[0])\n",
    "print(take_n_synsets[0].lemmas())\n",
    "print(take_n_synsets[0].lemmas()[0])\n",
    "print(take_n_synsets[0].lemmas()[0].antonyms())\n",
    "print()\n",
    "print(take_n_synsets[1])\n",
    "print(take_n_synsets[1].lemmas())\n",
    "print(take_n_synsets[1].lemmas()[0])\n",
    "print(take_n_synsets[1].lemmas()[0].antonyms())"
   ]
  },
  {
   "cell_type": "markdown",
   "metadata": {},
   "source": [
    "Focussing only on nouns, verbs, and adjectives, loop through each sense of each word in WordNet. Append each sense (synset), word, POS tag, and antonym to a list. \n",
    "\n",
    "*Note*: using a list structure as opposed to a dictionary structure is important because senses (synsets) can belong to more than one word (lemma). We want to keep these senses separate from each other."
   ]
  },
  {
   "cell_type": "code",
   "execution_count": 8,
   "metadata": {},
   "outputs": [],
   "source": [
    "senses = []\n",
    "\n",
    "for word in words:\n",
    "    for sense in wn.synsets(word, pos='n'):\n",
    "        senses.append({'synset': sense, 'word': word, 'pos': 'noun', 'antonym': sense.lemmas()[0].antonyms()})\n",
    "    for sense in wn.synsets(word, pos='v'):\n",
    "        senses.append({'synset': sense, 'word': word, 'pos': 'verb', 'antonym': sense.lemmas()[0].antonyms()})\n",
    "    for sense in wn.synsets(word, pos='a'):\n",
    "        senses.append({'synset': sense, 'word': word, 'pos': 'adjective', 'antonym': sense.lemmas()[0].antonyms()})"
   ]
  },
  {
   "cell_type": "code",
   "execution_count": 9,
   "metadata": {},
   "outputs": [
    {
     "name": "stdout",
     "output_type": "stream",
     "text": [
      "(222117, 3)\n"
     ]
    },
    {
     "data": {
      "text/html": [
       "<div>\n",
       "<style scoped>\n",
       "    .dataframe tbody tr th:only-of-type {\n",
       "        vertical-align: middle;\n",
       "    }\n",
       "\n",
       "    .dataframe tbody tr th {\n",
       "        vertical-align: top;\n",
       "    }\n",
       "\n",
       "    .dataframe thead th {\n",
       "        text-align: right;\n",
       "    }\n",
       "</style>\n",
       "<table border=\"1\" class=\"dataframe\">\n",
       "  <thead>\n",
       "    <tr style=\"text-align: right;\">\n",
       "      <th></th>\n",
       "      <th>word</th>\n",
       "      <th>pos</th>\n",
       "      <th>antonym</th>\n",
       "    </tr>\n",
       "    <tr>\n",
       "      <th>synset</th>\n",
       "      <th></th>\n",
       "      <th></th>\n",
       "      <th></th>\n",
       "    </tr>\n",
       "  </thead>\n",
       "  <tbody>\n",
       "    <tr>\n",
       "      <th>Synset('independent_variable.n.01')</th>\n",
       "      <td>independent_variable</td>\n",
       "      <td>noun</td>\n",
       "      <td>NaN</td>\n",
       "    </tr>\n",
       "    <tr>\n",
       "      <th>Synset('watercourse.n.03')</th>\n",
       "      <td>waterway</td>\n",
       "      <td>noun</td>\n",
       "      <td>NaN</td>\n",
       "    </tr>\n",
       "    <tr>\n",
       "      <th>Synset('strain.n.10')</th>\n",
       "      <td>strain</td>\n",
       "      <td>noun</td>\n",
       "      <td>NaN</td>\n",
       "    </tr>\n",
       "    <tr>\n",
       "      <th>Synset('brandenburg.n.01')</th>\n",
       "      <td>brandenburg</td>\n",
       "      <td>noun</td>\n",
       "      <td>NaN</td>\n",
       "    </tr>\n",
       "    <tr>\n",
       "      <th>Synset('reject.v.06')</th>\n",
       "      <td>refuse</td>\n",
       "      <td>verb</td>\n",
       "      <td>[Lemma('admit.v.02.admit')]</td>\n",
       "    </tr>\n",
       "    <tr>\n",
       "      <th>Synset('deal.v.09')</th>\n",
       "      <td>dealings</td>\n",
       "      <td>verb</td>\n",
       "      <td>NaN</td>\n",
       "    </tr>\n",
       "    <tr>\n",
       "      <th>Synset('component.n.01')</th>\n",
       "      <td>ingredient</td>\n",
       "      <td>noun</td>\n",
       "      <td>NaN</td>\n",
       "    </tr>\n",
       "    <tr>\n",
       "      <th>Synset('guilty.s.02')</th>\n",
       "      <td>shamed</td>\n",
       "      <td>adjective</td>\n",
       "      <td>NaN</td>\n",
       "    </tr>\n",
       "    <tr>\n",
       "      <th>Synset('ladyfinger.n.01')</th>\n",
       "      <td>ladyfinger</td>\n",
       "      <td>noun</td>\n",
       "      <td>NaN</td>\n",
       "    </tr>\n",
       "    <tr>\n",
       "      <th>Synset('discocephali.n.01')</th>\n",
       "      <td>discocephali</td>\n",
       "      <td>noun</td>\n",
       "      <td>NaN</td>\n",
       "    </tr>\n",
       "  </tbody>\n",
       "</table>\n",
       "</div>"
      ],
      "text/plain": [
       "                                                     word        pos  \\\n",
       "synset                                                                 \n",
       "Synset('independent_variable.n.01')  independent_variable  noun        \n",
       "Synset('watercourse.n.03')           waterway              noun        \n",
       "Synset('strain.n.10')                strain                noun        \n",
       "Synset('brandenburg.n.01')           brandenburg           noun        \n",
       "Synset('reject.v.06')                refuse                verb        \n",
       "Synset('deal.v.09')                  dealings              verb        \n",
       "Synset('component.n.01')             ingredient            noun        \n",
       "Synset('guilty.s.02')                shamed                adjective   \n",
       "Synset('ladyfinger.n.01')            ladyfinger            noun        \n",
       "Synset('discocephali.n.01')          discocephali          noun        \n",
       "\n",
       "                                                         antonym  \n",
       "synset                                                            \n",
       "Synset('independent_variable.n.01')  NaN                          \n",
       "Synset('watercourse.n.03')           NaN                          \n",
       "Synset('strain.n.10')                NaN                          \n",
       "Synset('brandenburg.n.01')           NaN                          \n",
       "Synset('reject.v.06')                [Lemma('admit.v.02.admit')]  \n",
       "Synset('deal.v.09')                  NaN                          \n",
       "Synset('component.n.01')             NaN                          \n",
       "Synset('guilty.s.02')                NaN                          \n",
       "Synset('ladyfinger.n.01')            NaN                          \n",
       "Synset('discocephali.n.01')          NaN                          "
      ]
     },
     "execution_count": 9,
     "metadata": {},
     "output_type": "execute_result"
    }
   ],
   "source": [
    "wordnet_df = pd.DataFrame(senses)\n",
    "wordnet_df.set_index('synset', inplace=True)\n",
    "wordnet_df.antonym = wordnet_df.antonym.apply(lambda y: np.nan if len(y)==0 else y)\n",
    "wordnet_df = wordnet_df[['word', 'pos', 'antonym']]\n",
    "print(wordnet_df.shape)\n",
    "wordnet_df.sample(10)"
   ]
  },
  {
   "cell_type": "markdown",
   "metadata": {},
   "source": [
    "**Sanity Checks**\n",
    "\n",
    "As the structure of WordNet is rather complicated, we should perform several sanity checks based upon what we know about the lexical database before proceeding. We know that one word can have multiple senses (or synsets). We want to keep these senses distinct from each other. Thus, our first check is to make sure that a highly polysemous word is fully represented in the dataframe."
   ]
  },
  {
   "cell_type": "code",
   "execution_count": 10,
   "metadata": {
    "scrolled": false
   },
   "outputs": [
    {
     "name": "stdout",
     "output_type": "stream",
     "text": [
      "44\n",
      "44\n",
      "[Synset('return.n.06'), Synset('take.n.02'), Synset('take.v.01'), Synset('take.v.02'), Synset('lead.v.01'), Synset('take.v.04'), Synset('assume.v.03'), Synset('take.v.06'), Synset('bring.v.01'), Synset('take.v.08'), Synset('take.v.09'), Synset('choose.v.01'), Synset('accept.v.02'), Synset('fill.v.04'), Synset('consider.v.03'), Synset('necessitate.v.01'), Synset('take.v.15'), Synset('film.v.01'), Synset('remove.v.01'), Synset('consume.v.02'), Synset('take.v.19'), Synset('take.v.20'), Synset('take.v.21'), Synset('assume.v.05'), Synset('accept.v.05'), Synset('take.v.24'), Synset('learn.v.04'), Synset('claim.v.05'), Synset('take.v.27'), Synset('aim.v.01'), Synset('take.v.29'), Synset('carry.v.02'), Synset('lease.v.04'), Synset('subscribe.v.05'), Synset('take.v.33'), Synset('take.v.34'), Synset('take.v.35'), Synset('claim.v.04'), Synset('accept.v.08'), Synset('contain.v.05'), Synset('take.v.39'), Synset('drive.v.16'), Synset('take.v.41'), Synset('contract.v.04')]\n"
     ]
    },
    {
     "data": {
      "text/html": [
       "<div>\n",
       "<style scoped>\n",
       "    .dataframe tbody tr th:only-of-type {\n",
       "        vertical-align: middle;\n",
       "    }\n",
       "\n",
       "    .dataframe tbody tr th {\n",
       "        vertical-align: top;\n",
       "    }\n",
       "\n",
       "    .dataframe thead th {\n",
       "        text-align: right;\n",
       "    }\n",
       "</style>\n",
       "<table border=\"1\" class=\"dataframe\">\n",
       "  <thead>\n",
       "    <tr style=\"text-align: right;\">\n",
       "      <th></th>\n",
       "      <th>word</th>\n",
       "      <th>pos</th>\n",
       "      <th>antonym</th>\n",
       "    </tr>\n",
       "    <tr>\n",
       "      <th>synset</th>\n",
       "      <th></th>\n",
       "      <th></th>\n",
       "      <th></th>\n",
       "    </tr>\n",
       "  </thead>\n",
       "  <tbody>\n",
       "    <tr>\n",
       "      <th>Synset('return.n.06')</th>\n",
       "      <td>take</td>\n",
       "      <td>noun</td>\n",
       "      <td>NaN</td>\n",
       "    </tr>\n",
       "    <tr>\n",
       "      <th>Synset('take.n.02')</th>\n",
       "      <td>take</td>\n",
       "      <td>noun</td>\n",
       "      <td>NaN</td>\n",
       "    </tr>\n",
       "    <tr>\n",
       "      <th>Synset('take.v.01')</th>\n",
       "      <td>take</td>\n",
       "      <td>verb</td>\n",
       "      <td>NaN</td>\n",
       "    </tr>\n",
       "    <tr>\n",
       "      <th>Synset('take.v.02')</th>\n",
       "      <td>take</td>\n",
       "      <td>verb</td>\n",
       "      <td>NaN</td>\n",
       "    </tr>\n",
       "    <tr>\n",
       "      <th>Synset('lead.v.01')</th>\n",
       "      <td>take</td>\n",
       "      <td>verb</td>\n",
       "      <td>NaN</td>\n",
       "    </tr>\n",
       "    <tr>\n",
       "      <th>Synset('take.v.04')</th>\n",
       "      <td>take</td>\n",
       "      <td>verb</td>\n",
       "      <td>NaN</td>\n",
       "    </tr>\n",
       "    <tr>\n",
       "      <th>Synset('assume.v.03')</th>\n",
       "      <td>take</td>\n",
       "      <td>verb</td>\n",
       "      <td>NaN</td>\n",
       "    </tr>\n",
       "    <tr>\n",
       "      <th>Synset('take.v.06')</th>\n",
       "      <td>take</td>\n",
       "      <td>verb</td>\n",
       "      <td>NaN</td>\n",
       "    </tr>\n",
       "    <tr>\n",
       "      <th>Synset('bring.v.01')</th>\n",
       "      <td>take</td>\n",
       "      <td>verb</td>\n",
       "      <td>NaN</td>\n",
       "    </tr>\n",
       "    <tr>\n",
       "      <th>Synset('take.v.08')</th>\n",
       "      <td>take</td>\n",
       "      <td>verb</td>\n",
       "      <td>[Lemma('give.v.03.give')]</td>\n",
       "    </tr>\n",
       "    <tr>\n",
       "      <th>Synset('take.v.09')</th>\n",
       "      <td>take</td>\n",
       "      <td>verb</td>\n",
       "      <td>NaN</td>\n",
       "    </tr>\n",
       "    <tr>\n",
       "      <th>Synset('choose.v.01')</th>\n",
       "      <td>take</td>\n",
       "      <td>verb</td>\n",
       "      <td>NaN</td>\n",
       "    </tr>\n",
       "    <tr>\n",
       "      <th>Synset('accept.v.02')</th>\n",
       "      <td>take</td>\n",
       "      <td>verb</td>\n",
       "      <td>[Lemma('refuse.v.02.refuse')]</td>\n",
       "    </tr>\n",
       "    <tr>\n",
       "      <th>Synset('fill.v.04')</th>\n",
       "      <td>take</td>\n",
       "      <td>verb</td>\n",
       "      <td>NaN</td>\n",
       "    </tr>\n",
       "    <tr>\n",
       "      <th>Synset('consider.v.03')</th>\n",
       "      <td>take</td>\n",
       "      <td>verb</td>\n",
       "      <td>NaN</td>\n",
       "    </tr>\n",
       "    <tr>\n",
       "      <th>Synset('necessitate.v.01')</th>\n",
       "      <td>take</td>\n",
       "      <td>verb</td>\n",
       "      <td>[Lemma('obviate.v.01.obviate')]</td>\n",
       "    </tr>\n",
       "    <tr>\n",
       "      <th>Synset('take.v.15')</th>\n",
       "      <td>take</td>\n",
       "      <td>verb</td>\n",
       "      <td>NaN</td>\n",
       "    </tr>\n",
       "    <tr>\n",
       "      <th>Synset('film.v.01')</th>\n",
       "      <td>take</td>\n",
       "      <td>verb</td>\n",
       "      <td>NaN</td>\n",
       "    </tr>\n",
       "    <tr>\n",
       "      <th>Synset('remove.v.01')</th>\n",
       "      <td>take</td>\n",
       "      <td>verb</td>\n",
       "      <td>NaN</td>\n",
       "    </tr>\n",
       "    <tr>\n",
       "      <th>Synset('consume.v.02')</th>\n",
       "      <td>take</td>\n",
       "      <td>verb</td>\n",
       "      <td>[Lemma('abstain.v.02.abstain')]</td>\n",
       "    </tr>\n",
       "    <tr>\n",
       "      <th>Synset('take.v.19')</th>\n",
       "      <td>take</td>\n",
       "      <td>verb</td>\n",
       "      <td>NaN</td>\n",
       "    </tr>\n",
       "    <tr>\n",
       "      <th>Synset('take.v.20')</th>\n",
       "      <td>take</td>\n",
       "      <td>verb</td>\n",
       "      <td>NaN</td>\n",
       "    </tr>\n",
       "    <tr>\n",
       "      <th>Synset('take.v.21')</th>\n",
       "      <td>take</td>\n",
       "      <td>verb</td>\n",
       "      <td>NaN</td>\n",
       "    </tr>\n",
       "    <tr>\n",
       "      <th>Synset('assume.v.05')</th>\n",
       "      <td>take</td>\n",
       "      <td>verb</td>\n",
       "      <td>NaN</td>\n",
       "    </tr>\n",
       "    <tr>\n",
       "      <th>Synset('accept.v.05')</th>\n",
       "      <td>take</td>\n",
       "      <td>verb</td>\n",
       "      <td>NaN</td>\n",
       "    </tr>\n",
       "    <tr>\n",
       "      <th>Synset('take.v.24')</th>\n",
       "      <td>take</td>\n",
       "      <td>verb</td>\n",
       "      <td>NaN</td>\n",
       "    </tr>\n",
       "    <tr>\n",
       "      <th>Synset('learn.v.04')</th>\n",
       "      <td>take</td>\n",
       "      <td>verb</td>\n",
       "      <td>NaN</td>\n",
       "    </tr>\n",
       "    <tr>\n",
       "      <th>Synset('claim.v.05')</th>\n",
       "      <td>take</td>\n",
       "      <td>verb</td>\n",
       "      <td>NaN</td>\n",
       "    </tr>\n",
       "    <tr>\n",
       "      <th>Synset('take.v.27')</th>\n",
       "      <td>take</td>\n",
       "      <td>verb</td>\n",
       "      <td>NaN</td>\n",
       "    </tr>\n",
       "    <tr>\n",
       "      <th>Synset('aim.v.01')</th>\n",
       "      <td>take</td>\n",
       "      <td>verb</td>\n",
       "      <td>NaN</td>\n",
       "    </tr>\n",
       "    <tr>\n",
       "      <th>Synset('take.v.29')</th>\n",
       "      <td>take</td>\n",
       "      <td>verb</td>\n",
       "      <td>NaN</td>\n",
       "    </tr>\n",
       "    <tr>\n",
       "      <th>Synset('carry.v.02')</th>\n",
       "      <td>take</td>\n",
       "      <td>verb</td>\n",
       "      <td>NaN</td>\n",
       "    </tr>\n",
       "    <tr>\n",
       "      <th>Synset('lease.v.04')</th>\n",
       "      <td>take</td>\n",
       "      <td>verb</td>\n",
       "      <td>NaN</td>\n",
       "    </tr>\n",
       "    <tr>\n",
       "      <th>Synset('subscribe.v.05')</th>\n",
       "      <td>take</td>\n",
       "      <td>verb</td>\n",
       "      <td>NaN</td>\n",
       "    </tr>\n",
       "    <tr>\n",
       "      <th>Synset('take.v.33')</th>\n",
       "      <td>take</td>\n",
       "      <td>verb</td>\n",
       "      <td>NaN</td>\n",
       "    </tr>\n",
       "    <tr>\n",
       "      <th>Synset('take.v.34')</th>\n",
       "      <td>take</td>\n",
       "      <td>verb</td>\n",
       "      <td>NaN</td>\n",
       "    </tr>\n",
       "    <tr>\n",
       "      <th>Synset('take.v.35')</th>\n",
       "      <td>take</td>\n",
       "      <td>verb</td>\n",
       "      <td>NaN</td>\n",
       "    </tr>\n",
       "    <tr>\n",
       "      <th>Synset('claim.v.04')</th>\n",
       "      <td>take</td>\n",
       "      <td>verb</td>\n",
       "      <td>[Lemma('disclaim.v.01.disclaim')]</td>\n",
       "    </tr>\n",
       "    <tr>\n",
       "      <th>Synset('accept.v.08')</th>\n",
       "      <td>take</td>\n",
       "      <td>verb</td>\n",
       "      <td>NaN</td>\n",
       "    </tr>\n",
       "    <tr>\n",
       "      <th>Synset('contain.v.05')</th>\n",
       "      <td>take</td>\n",
       "      <td>verb</td>\n",
       "      <td>NaN</td>\n",
       "    </tr>\n",
       "    <tr>\n",
       "      <th>Synset('take.v.39')</th>\n",
       "      <td>take</td>\n",
       "      <td>verb</td>\n",
       "      <td>NaN</td>\n",
       "    </tr>\n",
       "    <tr>\n",
       "      <th>Synset('drive.v.16')</th>\n",
       "      <td>take</td>\n",
       "      <td>verb</td>\n",
       "      <td>NaN</td>\n",
       "    </tr>\n",
       "    <tr>\n",
       "      <th>Synset('take.v.41')</th>\n",
       "      <td>take</td>\n",
       "      <td>verb</td>\n",
       "      <td>NaN</td>\n",
       "    </tr>\n",
       "    <tr>\n",
       "      <th>Synset('contract.v.04')</th>\n",
       "      <td>take</td>\n",
       "      <td>verb</td>\n",
       "      <td>NaN</td>\n",
       "    </tr>\n",
       "  </tbody>\n",
       "</table>\n",
       "</div>"
      ],
      "text/plain": [
       "                            word   pos                            antonym\n",
       "synset                                                                   \n",
       "Synset('return.n.06')       take  noun  NaN                              \n",
       "Synset('take.n.02')         take  noun  NaN                              \n",
       "Synset('take.v.01')         take  verb  NaN                              \n",
       "Synset('take.v.02')         take  verb  NaN                              \n",
       "Synset('lead.v.01')         take  verb  NaN                              \n",
       "Synset('take.v.04')         take  verb  NaN                              \n",
       "Synset('assume.v.03')       take  verb  NaN                              \n",
       "Synset('take.v.06')         take  verb  NaN                              \n",
       "Synset('bring.v.01')        take  verb  NaN                              \n",
       "Synset('take.v.08')         take  verb  [Lemma('give.v.03.give')]        \n",
       "Synset('take.v.09')         take  verb  NaN                              \n",
       "Synset('choose.v.01')       take  verb  NaN                              \n",
       "Synset('accept.v.02')       take  verb  [Lemma('refuse.v.02.refuse')]    \n",
       "Synset('fill.v.04')         take  verb  NaN                              \n",
       "Synset('consider.v.03')     take  verb  NaN                              \n",
       "Synset('necessitate.v.01')  take  verb  [Lemma('obviate.v.01.obviate')]  \n",
       "Synset('take.v.15')         take  verb  NaN                              \n",
       "Synset('film.v.01')         take  verb  NaN                              \n",
       "Synset('remove.v.01')       take  verb  NaN                              \n",
       "Synset('consume.v.02')      take  verb  [Lemma('abstain.v.02.abstain')]  \n",
       "Synset('take.v.19')         take  verb  NaN                              \n",
       "Synset('take.v.20')         take  verb  NaN                              \n",
       "Synset('take.v.21')         take  verb  NaN                              \n",
       "Synset('assume.v.05')       take  verb  NaN                              \n",
       "Synset('accept.v.05')       take  verb  NaN                              \n",
       "Synset('take.v.24')         take  verb  NaN                              \n",
       "Synset('learn.v.04')        take  verb  NaN                              \n",
       "Synset('claim.v.05')        take  verb  NaN                              \n",
       "Synset('take.v.27')         take  verb  NaN                              \n",
       "Synset('aim.v.01')          take  verb  NaN                              \n",
       "Synset('take.v.29')         take  verb  NaN                              \n",
       "Synset('carry.v.02')        take  verb  NaN                              \n",
       "Synset('lease.v.04')        take  verb  NaN                              \n",
       "Synset('subscribe.v.05')    take  verb  NaN                              \n",
       "Synset('take.v.33')         take  verb  NaN                              \n",
       "Synset('take.v.34')         take  verb  NaN                              \n",
       "Synset('take.v.35')         take  verb  NaN                              \n",
       "Synset('claim.v.04')        take  verb  [Lemma('disclaim.v.01.disclaim')]\n",
       "Synset('accept.v.08')       take  verb  NaN                              \n",
       "Synset('contain.v.05')      take  verb  NaN                              \n",
       "Synset('take.v.39')         take  verb  NaN                              \n",
       "Synset('drive.v.16')        take  verb  NaN                              \n",
       "Synset('take.v.41')         take  verb  NaN                              \n",
       "Synset('contract.v.04')     take  verb  NaN                              "
      ]
     },
     "execution_count": 10,
     "metadata": {},
     "output_type": "execute_result"
    }
   ],
   "source": [
    "print(len(wn.synsets('take')))\n",
    "print(len(wordnet_df.loc[wordnet_df.word=='take']))\n",
    "print(wn.synsets('take'))\n",
    "wordnet_df.loc[wordnet_df.word=='take']"
   ]
  },
  {
   "cell_type": "markdown",
   "metadata": {},
   "source": [
    "We also know that synsets can belong to multiple words (lemmas). Our second check is to make sure that all of these lemmas are represented in the dataframe."
   ]
  },
  {
   "cell_type": "code",
   "execution_count": 11,
   "metadata": {},
   "outputs": [
    {
     "name": "stdout",
     "output_type": "stream",
     "text": [
      "Synset('return.n.06')\n",
      "['return', 'issue', 'take', 'takings', 'proceeds', 'yield', 'payoff']\n"
     ]
    },
    {
     "data": {
      "text/html": [
       "<div>\n",
       "<style scoped>\n",
       "    .dataframe tbody tr th:only-of-type {\n",
       "        vertical-align: middle;\n",
       "    }\n",
       "\n",
       "    .dataframe tbody tr th {\n",
       "        vertical-align: top;\n",
       "    }\n",
       "\n",
       "    .dataframe thead th {\n",
       "        text-align: right;\n",
       "    }\n",
       "</style>\n",
       "<table border=\"1\" class=\"dataframe\">\n",
       "  <thead>\n",
       "    <tr style=\"text-align: right;\">\n",
       "      <th></th>\n",
       "      <th>word</th>\n",
       "      <th>pos</th>\n",
       "      <th>antonym</th>\n",
       "    </tr>\n",
       "    <tr>\n",
       "      <th>synset</th>\n",
       "      <th></th>\n",
       "      <th></th>\n",
       "      <th></th>\n",
       "    </tr>\n",
       "  </thead>\n",
       "  <tbody>\n",
       "    <tr>\n",
       "      <th>Synset('return.n.06')</th>\n",
       "      <td>return</td>\n",
       "      <td>noun</td>\n",
       "      <td>NaN</td>\n",
       "    </tr>\n",
       "  </tbody>\n",
       "</table>\n",
       "</div>"
      ],
      "text/plain": [
       "                         word   pos antonym\n",
       "synset                                     \n",
       "Synset('return.n.06')  return  noun  NaN   "
      ]
     },
     "metadata": {},
     "output_type": "display_data"
    },
    {
     "data": {
      "text/html": [
       "<div>\n",
       "<style scoped>\n",
       "    .dataframe tbody tr th:only-of-type {\n",
       "        vertical-align: middle;\n",
       "    }\n",
       "\n",
       "    .dataframe tbody tr th {\n",
       "        vertical-align: top;\n",
       "    }\n",
       "\n",
       "    .dataframe thead th {\n",
       "        text-align: right;\n",
       "    }\n",
       "</style>\n",
       "<table border=\"1\" class=\"dataframe\">\n",
       "  <thead>\n",
       "    <tr style=\"text-align: right;\">\n",
       "      <th></th>\n",
       "      <th>word</th>\n",
       "      <th>pos</th>\n",
       "      <th>antonym</th>\n",
       "    </tr>\n",
       "    <tr>\n",
       "      <th>synset</th>\n",
       "      <th></th>\n",
       "      <th></th>\n",
       "      <th></th>\n",
       "    </tr>\n",
       "  </thead>\n",
       "  <tbody>\n",
       "    <tr>\n",
       "      <th>Synset('return.n.06')</th>\n",
       "      <td>issue</td>\n",
       "      <td>noun</td>\n",
       "      <td>NaN</td>\n",
       "    </tr>\n",
       "  </tbody>\n",
       "</table>\n",
       "</div>"
      ],
      "text/plain": [
       "                        word   pos antonym\n",
       "synset                                    \n",
       "Synset('return.n.06')  issue  noun  NaN   "
      ]
     },
     "metadata": {},
     "output_type": "display_data"
    },
    {
     "data": {
      "text/html": [
       "<div>\n",
       "<style scoped>\n",
       "    .dataframe tbody tr th:only-of-type {\n",
       "        vertical-align: middle;\n",
       "    }\n",
       "\n",
       "    .dataframe tbody tr th {\n",
       "        vertical-align: top;\n",
       "    }\n",
       "\n",
       "    .dataframe thead th {\n",
       "        text-align: right;\n",
       "    }\n",
       "</style>\n",
       "<table border=\"1\" class=\"dataframe\">\n",
       "  <thead>\n",
       "    <tr style=\"text-align: right;\">\n",
       "      <th></th>\n",
       "      <th>word</th>\n",
       "      <th>pos</th>\n",
       "      <th>antonym</th>\n",
       "    </tr>\n",
       "    <tr>\n",
       "      <th>synset</th>\n",
       "      <th></th>\n",
       "      <th></th>\n",
       "      <th></th>\n",
       "    </tr>\n",
       "  </thead>\n",
       "  <tbody>\n",
       "    <tr>\n",
       "      <th>Synset('return.n.06')</th>\n",
       "      <td>take</td>\n",
       "      <td>noun</td>\n",
       "      <td>NaN</td>\n",
       "    </tr>\n",
       "  </tbody>\n",
       "</table>\n",
       "</div>"
      ],
      "text/plain": [
       "                       word   pos antonym\n",
       "synset                                   \n",
       "Synset('return.n.06')  take  noun  NaN   "
      ]
     },
     "metadata": {},
     "output_type": "display_data"
    },
    {
     "data": {
      "text/html": [
       "<div>\n",
       "<style scoped>\n",
       "    .dataframe tbody tr th:only-of-type {\n",
       "        vertical-align: middle;\n",
       "    }\n",
       "\n",
       "    .dataframe tbody tr th {\n",
       "        vertical-align: top;\n",
       "    }\n",
       "\n",
       "    .dataframe thead th {\n",
       "        text-align: right;\n",
       "    }\n",
       "</style>\n",
       "<table border=\"1\" class=\"dataframe\">\n",
       "  <thead>\n",
       "    <tr style=\"text-align: right;\">\n",
       "      <th></th>\n",
       "      <th>word</th>\n",
       "      <th>pos</th>\n",
       "      <th>antonym</th>\n",
       "    </tr>\n",
       "    <tr>\n",
       "      <th>synset</th>\n",
       "      <th></th>\n",
       "      <th></th>\n",
       "      <th></th>\n",
       "    </tr>\n",
       "  </thead>\n",
       "  <tbody>\n",
       "    <tr>\n",
       "      <th>Synset('return.n.06')</th>\n",
       "      <td>takings</td>\n",
       "      <td>noun</td>\n",
       "      <td>NaN</td>\n",
       "    </tr>\n",
       "  </tbody>\n",
       "</table>\n",
       "</div>"
      ],
      "text/plain": [
       "                          word   pos antonym\n",
       "synset                                      \n",
       "Synset('return.n.06')  takings  noun  NaN   "
      ]
     },
     "metadata": {},
     "output_type": "display_data"
    },
    {
     "data": {
      "text/html": [
       "<div>\n",
       "<style scoped>\n",
       "    .dataframe tbody tr th:only-of-type {\n",
       "        vertical-align: middle;\n",
       "    }\n",
       "\n",
       "    .dataframe tbody tr th {\n",
       "        vertical-align: top;\n",
       "    }\n",
       "\n",
       "    .dataframe thead th {\n",
       "        text-align: right;\n",
       "    }\n",
       "</style>\n",
       "<table border=\"1\" class=\"dataframe\">\n",
       "  <thead>\n",
       "    <tr style=\"text-align: right;\">\n",
       "      <th></th>\n",
       "      <th>word</th>\n",
       "      <th>pos</th>\n",
       "      <th>antonym</th>\n",
       "    </tr>\n",
       "    <tr>\n",
       "      <th>synset</th>\n",
       "      <th></th>\n",
       "      <th></th>\n",
       "      <th></th>\n",
       "    </tr>\n",
       "  </thead>\n",
       "  <tbody>\n",
       "    <tr>\n",
       "      <th>Synset('return.n.06')</th>\n",
       "      <td>proceeds</td>\n",
       "      <td>noun</td>\n",
       "      <td>NaN</td>\n",
       "    </tr>\n",
       "  </tbody>\n",
       "</table>\n",
       "</div>"
      ],
      "text/plain": [
       "                           word   pos antonym\n",
       "synset                                       \n",
       "Synset('return.n.06')  proceeds  noun  NaN   "
      ]
     },
     "metadata": {},
     "output_type": "display_data"
    },
    {
     "data": {
      "text/html": [
       "<div>\n",
       "<style scoped>\n",
       "    .dataframe tbody tr th:only-of-type {\n",
       "        vertical-align: middle;\n",
       "    }\n",
       "\n",
       "    .dataframe tbody tr th {\n",
       "        vertical-align: top;\n",
       "    }\n",
       "\n",
       "    .dataframe thead th {\n",
       "        text-align: right;\n",
       "    }\n",
       "</style>\n",
       "<table border=\"1\" class=\"dataframe\">\n",
       "  <thead>\n",
       "    <tr style=\"text-align: right;\">\n",
       "      <th></th>\n",
       "      <th>word</th>\n",
       "      <th>pos</th>\n",
       "      <th>antonym</th>\n",
       "    </tr>\n",
       "    <tr>\n",
       "      <th>synset</th>\n",
       "      <th></th>\n",
       "      <th></th>\n",
       "      <th></th>\n",
       "    </tr>\n",
       "  </thead>\n",
       "  <tbody>\n",
       "    <tr>\n",
       "      <th>Synset('return.n.06')</th>\n",
       "      <td>yield</td>\n",
       "      <td>noun</td>\n",
       "      <td>NaN</td>\n",
       "    </tr>\n",
       "  </tbody>\n",
       "</table>\n",
       "</div>"
      ],
      "text/plain": [
       "                        word   pos antonym\n",
       "synset                                    \n",
       "Synset('return.n.06')  yield  noun  NaN   "
      ]
     },
     "metadata": {},
     "output_type": "display_data"
    },
    {
     "data": {
      "text/html": [
       "<div>\n",
       "<style scoped>\n",
       "    .dataframe tbody tr th:only-of-type {\n",
       "        vertical-align: middle;\n",
       "    }\n",
       "\n",
       "    .dataframe tbody tr th {\n",
       "        vertical-align: top;\n",
       "    }\n",
       "\n",
       "    .dataframe thead th {\n",
       "        text-align: right;\n",
       "    }\n",
       "</style>\n",
       "<table border=\"1\" class=\"dataframe\">\n",
       "  <thead>\n",
       "    <tr style=\"text-align: right;\">\n",
       "      <th></th>\n",
       "      <th>word</th>\n",
       "      <th>pos</th>\n",
       "      <th>antonym</th>\n",
       "    </tr>\n",
       "    <tr>\n",
       "      <th>synset</th>\n",
       "      <th></th>\n",
       "      <th></th>\n",
       "      <th></th>\n",
       "    </tr>\n",
       "  </thead>\n",
       "  <tbody>\n",
       "    <tr>\n",
       "      <th>Synset('return.n.06')</th>\n",
       "      <td>payoff</td>\n",
       "      <td>noun</td>\n",
       "      <td>NaN</td>\n",
       "    </tr>\n",
       "  </tbody>\n",
       "</table>\n",
       "</div>"
      ],
      "text/plain": [
       "                         word   pos antonym\n",
       "synset                                     \n",
       "Synset('return.n.06')  payoff  noun  NaN   "
      ]
     },
     "metadata": {},
     "output_type": "display_data"
    }
   ],
   "source": [
    "take_synset = wn.synsets('take')[0]\n",
    "take_lemmas = take_synset.lemma_names()\n",
    "print(take_synset)\n",
    "print(take_lemmas)\n",
    "\n",
    "for lemma in take_lemmas:    \n",
    "    display(wordnet_df[(wordnet_df.word==lemma) & (wordnet_df.index==take_synset)])"
   ]
  },
  {
   "cell_type": "markdown",
   "metadata": {},
   "source": [
    "Check to see a) how many words overall have antonyms and b) how many words have more than one antonym."
   ]
  },
  {
   "cell_type": "code",
   "execution_count": 12,
   "metadata": {},
   "outputs": [
    {
     "name": "stdout",
     "output_type": "stream",
     "text": [
      "Number of words with antonyms: 12127\n",
      "Number of words with more than one antonym: 358\n"
     ]
    }
   ],
   "source": [
    "has_antonym = wordnet_df[wordnet_df.antonym.notnull()]\n",
    "print('Number of words with antonyms:', len(has_antonym))\n",
    "antonym_count = has_antonym.antonym.map(lambda x: len(x))\n",
    "print('Number of words with more than one antonym:', len(antonym_count[antonym_count > 1]))"
   ]
  },
  {
   "cell_type": "markdown",
   "metadata": {},
   "source": [
    "Investigation of one word with multiple antonyms to understand how this could be possible."
   ]
  },
  {
   "cell_type": "code",
   "execution_count": 13,
   "metadata": {},
   "outputs": [
    {
     "name": "stdout",
     "output_type": "stream",
     "text": [
      "Definition of mesic: having or characterized by moderate or a well-balanced supply of moisture\n",
      "Antonyms of mesic: [Lemma('xeric.a.01.xeric'), Lemma('hydric.a.01.hydric')]\n",
      "Definition of xeric: being deficient in moisture\n",
      "Definition of hydric: having or characterized by excessive moisture\n"
     ]
    }
   ],
   "source": [
    "print('Definition of mesic:', wn.synset('mesic.a.02').definition())\n",
    "print('Antonyms of mesic:', wn.synset('mesic.a.02').lemmas()[0].antonyms())\n",
    "print('Definition of xeric:', wn.synset('xeric.a.01').definition())\n",
    "print('Definition of hydric:', wn.synset('hydric.a.01').definition())"
   ]
  },
  {
   "cell_type": "markdown",
   "metadata": {},
   "source": [
    "### Part 1: Part of speech (POS)"
   ]
  },
  {
   "cell_type": "markdown",
   "metadata": {},
   "source": [
    "**Word Sense Level**"
   ]
  },
  {
   "cell_type": "code",
   "execution_count": 14,
   "metadata": {
    "scrolled": true
   },
   "outputs": [
    {
     "data": {
      "text/plain": [
       "noun         148627\n",
       "verb         42775 \n",
       "adjective    30715 \n",
       "Name: pos, dtype: int64"
      ]
     },
     "execution_count": 14,
     "metadata": {},
     "output_type": "execute_result"
    }
   ],
   "source": [
    "wordnet_df.pos.value_counts()"
   ]
  },
  {
   "cell_type": "code",
   "execution_count": 15,
   "metadata": {},
   "outputs": [
    {
     "data": {
      "image/png": "[encoded data removed]",
      "text/plain": [
       "<Figure size 432x288 with 1 Axes>"
      ]
     },
     "metadata": {},
     "output_type": "display_data"
    }
   ],
   "source": [
    "sns.countplot(data=wordnet_df, x='pos')\n",
    "plt.title('POS Frequency (Word Sense Level)')\n",
    "plt.ylabel('')\n",
    "plt.xlabel('POS');"
   ]
  },
  {
   "cell_type": "markdown",
   "metadata": {},
   "source": [
    "Note that `.count()` works in this instance because we have replaced the empty lists with NaNs. The count thus reflects the number of senses per POS category that have an antonym."
   ]
  },
  {
   "cell_type": "code",
   "execution_count": 16,
   "metadata": {},
   "outputs": [
    {
     "data": {
      "text/html": [
       "<div>\n",
       "<style scoped>\n",
       "    .dataframe tbody tr th:only-of-type {\n",
       "        vertical-align: middle;\n",
       "    }\n",
       "\n",
       "    .dataframe tbody tr th {\n",
       "        vertical-align: top;\n",
       "    }\n",
       "\n",
       "    .dataframe thead th {\n",
       "        text-align: right;\n",
       "    }\n",
       "</style>\n",
       "<table border=\"1\" class=\"dataframe\">\n",
       "  <thead>\n",
       "    <tr style=\"text-align: right;\">\n",
       "      <th></th>\n",
       "      <th>word</th>\n",
       "      <th>antonym</th>\n",
       "    </tr>\n",
       "    <tr>\n",
       "      <th>pos</th>\n",
       "      <th></th>\n",
       "      <th></th>\n",
       "    </tr>\n",
       "  </thead>\n",
       "  <tbody>\n",
       "    <tr>\n",
       "      <th>adjective</th>\n",
       "      <td>30715</td>\n",
       "      <td>5154</td>\n",
       "    </tr>\n",
       "    <tr>\n",
       "      <th>noun</th>\n",
       "      <td>148627</td>\n",
       "      <td>3112</td>\n",
       "    </tr>\n",
       "    <tr>\n",
       "      <th>verb</th>\n",
       "      <td>42775</td>\n",
       "      <td>3861</td>\n",
       "    </tr>\n",
       "  </tbody>\n",
       "</table>\n",
       "</div>"
      ],
      "text/plain": [
       "             word  antonym\n",
       "pos                       \n",
       "adjective  30715   5154   \n",
       "noun       148627  3112   \n",
       "verb       42775   3861   "
      ]
     },
     "execution_count": 16,
     "metadata": {},
     "output_type": "execute_result"
    }
   ],
   "source": [
    "senses_grouped_pos = wordnet_df.groupby(['pos'])\n",
    "senses_grouped_pos.count()"
   ]
  },
  {
   "cell_type": "code",
   "execution_count": 17,
   "metadata": {},
   "outputs": [
    {
     "name": "stdout",
     "output_type": "stream",
     "text": [
      "Percentage of adjectives that have antonyms: 16.78\n",
      "Percentage of nouns that have antonyms: 2.09\n",
      "Percentage of verbs that have antonyms: 9.03\n"
     ]
    }
   ],
   "source": [
    "print('Percentage of adjectives that have antonyms:', round((5154/30715)*100, 2))\n",
    "print('Percentage of nouns that have antonyms:', round((3112/148627)*100, 2))\n",
    "print('Percentage of verbs that have antonyms:', round((3861/42775)*100, 2))"
   ]
  },
  {
   "cell_type": "markdown",
   "metadata": {},
   "source": [
    "*QUESTION 1: Does the likelihood of a word in a specific sense having an antonym differ by\n",
    "part of speech?*\n",
    "\n",
    "Yes. Adjectives are significantly more likely than nouns and verbs to have antonyms. This reflects Miller's (1995) comment that antonymy is 'especially important in organizing the meanings of adjectives and adverbs' (p. 40)."
   ]
  },
  {
   "cell_type": "markdown",
   "metadata": {},
   "source": [
    "**Word Level**\n",
    "\n",
    "*Note*: have to group by both word and POS. If you only group by word, distinctions between different POS-versions of the word are collapsed (e.g., take as a noun and take as a verb are viewed as one word, as opposed to two)."
   ]
  },
  {
   "cell_type": "code",
   "execution_count": 18,
   "metadata": {},
   "outputs": [
    {
     "data": {
      "text/plain": [
       "(155530, 4)"
      ]
     },
     "execution_count": 18,
     "metadata": {},
     "output_type": "execute_result"
    }
   ],
   "source": [
    "words_df = wordnet_df.groupby(['word', 'pos']).count().reset_index()\n",
    "words_df.insert(3, 'antonym_binary', np.where(words_df['antonym'] > 0, 1, 0))\n",
    "words_df.shape"
   ]
  },
  {
   "cell_type": "code",
   "execution_count": 19,
   "metadata": {},
   "outputs": [
    {
     "data": {
      "text/html": [
       "<div>\n",
       "<style scoped>\n",
       "    .dataframe tbody tr th:only-of-type {\n",
       "        vertical-align: middle;\n",
       "    }\n",
       "\n",
       "    .dataframe tbody tr th {\n",
       "        vertical-align: top;\n",
       "    }\n",
       "\n",
       "    .dataframe thead th {\n",
       "        text-align: right;\n",
       "    }\n",
       "</style>\n",
       "<table border=\"1\" class=\"dataframe\">\n",
       "  <thead>\n",
       "    <tr style=\"text-align: right;\">\n",
       "      <th></th>\n",
       "      <th>word</th>\n",
       "      <th>pos</th>\n",
       "      <th>antonym</th>\n",
       "      <th>antonym_binary</th>\n",
       "    </tr>\n",
       "  </thead>\n",
       "  <tbody>\n",
       "    <tr>\n",
       "      <th>116804</th>\n",
       "      <td>return_on_investment</td>\n",
       "      <td>noun</td>\n",
       "      <td>0</td>\n",
       "      <td>0</td>\n",
       "    </tr>\n",
       "    <tr>\n",
       "      <th>20388</th>\n",
       "      <td>cajole</td>\n",
       "      <td>verb</td>\n",
       "      <td>0</td>\n",
       "      <td>0</td>\n",
       "    </tr>\n",
       "    <tr>\n",
       "      <th>49634</th>\n",
       "      <td>family_rhiptoglossa</td>\n",
       "      <td>noun</td>\n",
       "      <td>0</td>\n",
       "      <td>0</td>\n",
       "    </tr>\n",
       "    <tr>\n",
       "      <th>42010</th>\n",
       "      <td>drumhead</td>\n",
       "      <td>noun</td>\n",
       "      <td>0</td>\n",
       "      <td>0</td>\n",
       "    </tr>\n",
       "    <tr>\n",
       "      <th>117034</th>\n",
       "      <td>rh_factor</td>\n",
       "      <td>noun</td>\n",
       "      <td>0</td>\n",
       "      <td>0</td>\n",
       "    </tr>\n",
       "    <tr>\n",
       "      <th>8087</th>\n",
       "      <td>aristocratical</td>\n",
       "      <td>adjective</td>\n",
       "      <td>0</td>\n",
       "      <td>0</td>\n",
       "    </tr>\n",
       "    <tr>\n",
       "      <th>139751</th>\n",
       "      <td>third_council_of_constantinople</td>\n",
       "      <td>noun</td>\n",
       "      <td>0</td>\n",
       "      <td>0</td>\n",
       "    </tr>\n",
       "    <tr>\n",
       "      <th>108960</th>\n",
       "      <td>preceding</td>\n",
       "      <td>adjective</td>\n",
       "      <td>1</td>\n",
       "      <td>1</td>\n",
       "    </tr>\n",
       "    <tr>\n",
       "      <th>84700</th>\n",
       "      <td>madderwort</td>\n",
       "      <td>noun</td>\n",
       "      <td>0</td>\n",
       "      <td>0</td>\n",
       "    </tr>\n",
       "    <tr>\n",
       "      <th>47870</th>\n",
       "      <td>exsiccate</td>\n",
       "      <td>verb</td>\n",
       "      <td>0</td>\n",
       "      <td>0</td>\n",
       "    </tr>\n",
       "  </tbody>\n",
       "</table>\n",
       "</div>"
      ],
      "text/plain": [
       "                                   word        pos  antonym  antonym_binary\n",
       "116804  return_on_investment             noun       0        0             \n",
       "20388   cajole                           verb       0        0             \n",
       "49634   family_rhiptoglossa              noun       0        0             \n",
       "42010   drumhead                         noun       0        0             \n",
       "117034  rh_factor                        noun       0        0             \n",
       "8087    aristocratical                   adjective  0        0             \n",
       "139751  third_council_of_constantinople  noun       0        0             \n",
       "108960  preceding                        adjective  1        1             \n",
       "84700   madderwort                       noun       0        0             \n",
       "47870   exsiccate                        verb       0        0             "
      ]
     },
     "execution_count": 19,
     "metadata": {},
     "output_type": "execute_result"
    }
   ],
   "source": [
    "words_df.sample(10)"
   ]
  },
  {
   "cell_type": "code",
   "execution_count": 20,
   "metadata": {
    "scrolled": true
   },
   "outputs": [
    {
     "data": {
      "text/plain": [
       "noun         117830\n",
       "adjective    21593 \n",
       "verb         16107 \n",
       "Name: pos, dtype: int64"
      ]
     },
     "execution_count": 20,
     "metadata": {},
     "output_type": "execute_result"
    }
   ],
   "source": [
    "words_df.pos.value_counts()"
   ]
  },
  {
   "cell_type": "code",
   "execution_count": 21,
   "metadata": {},
   "outputs": [
    {
     "data": {
      "image/png": "[encoded data removed]",
      "text/plain": [
       "<Figure size 432x288 with 1 Axes>"
      ]
     },
     "metadata": {},
     "output_type": "display_data"
    }
   ],
   "source": [
    "sns.countplot(data=words_df, x='pos')\n",
    "plt.title('POS Frequency (Word Level)')\n",
    "plt.ylabel('')\n",
    "plt.xlabel('POS');"
   ]
  },
  {
   "cell_type": "markdown",
   "metadata": {},
   "source": [
    "Note that we must use `.sum()` as opposed to `.count()` here because we have 0s and 1s as opposed to NaNs. The sum thus reflects the number of words per POS category that have an antonym. Because we should only count antonyms listed under more than one sense for the same POS once, the column of interest is `antonym_binary`."
   ]
  },
  {
   "cell_type": "code",
   "execution_count": 22,
   "metadata": {
    "scrolled": true
   },
   "outputs": [
    {
     "data": {
      "text/html": [
       "<div>\n",
       "<style scoped>\n",
       "    .dataframe tbody tr th:only-of-type {\n",
       "        vertical-align: middle;\n",
       "    }\n",
       "\n",
       "    .dataframe tbody tr th {\n",
       "        vertical-align: top;\n",
       "    }\n",
       "\n",
       "    .dataframe thead th {\n",
       "        text-align: right;\n",
       "    }\n",
       "</style>\n",
       "<table border=\"1\" class=\"dataframe\">\n",
       "  <thead>\n",
       "    <tr style=\"text-align: right;\">\n",
       "      <th></th>\n",
       "      <th>antonym</th>\n",
       "      <th>antonym_binary</th>\n",
       "    </tr>\n",
       "    <tr>\n",
       "      <th>pos</th>\n",
       "      <th></th>\n",
       "      <th></th>\n",
       "    </tr>\n",
       "  </thead>\n",
       "  <tbody>\n",
       "    <tr>\n",
       "      <th>adjective</th>\n",
       "      <td>5154</td>\n",
       "      <td>4280</td>\n",
       "    </tr>\n",
       "    <tr>\n",
       "      <th>noun</th>\n",
       "      <td>3112</td>\n",
       "      <td>2800</td>\n",
       "    </tr>\n",
       "    <tr>\n",
       "      <th>verb</th>\n",
       "      <td>3861</td>\n",
       "      <td>2864</td>\n",
       "    </tr>\n",
       "  </tbody>\n",
       "</table>\n",
       "</div>"
      ],
      "text/plain": [
       "           antonym  antonym_binary\n",
       "pos                               \n",
       "adjective  5154     4280          \n",
       "noun       3112     2800          \n",
       "verb       3861     2864          "
      ]
     },
     "execution_count": 22,
     "metadata": {},
     "output_type": "execute_result"
    }
   ],
   "source": [
    "words_grouped_pos = words_df.groupby(['pos'])\n",
    "words_grouped_pos.sum()"
   ]
  },
  {
   "cell_type": "code",
   "execution_count": 23,
   "metadata": {},
   "outputs": [
    {
     "name": "stdout",
     "output_type": "stream",
     "text": [
      "Percentage of adjectives that have antonyms: 19.82\n",
      "Percentage of nouns that have antonyms: 2.38\n",
      "Percentage of verbs that have antonyms: 17.78\n"
     ]
    }
   ],
   "source": [
    "print('Percentage of adjectives that have antonyms:', round((4280/21593)*100, 2))\n",
    "print('Percentage of nouns that have antonyms:', round((2800/117830)*100, 2))\n",
    "print('Percentage of verbs that have antonyms:', round((2864/16107)*100, 2))"
   ]
  },
  {
   "cell_type": "markdown",
   "metadata": {},
   "source": [
    "*QUESTION 2: Does the likelihood of having an antonym differ by part of speech at the WORD-POS\n",
    "level (i.e., ignoring the nuances of different senses)? Are the results pretty much the\n",
    "same, or obviously different, from the answer to QUESTION 1?*\n",
    "\n",
    "Yes, and the results are slightly different from those for Question 1. Adjectives are the most likely to have antonyms, but verbs are not far behind. Why has the proportion of verbs with antonyms increased (to be more specific, almost doubled)? The frequencies of verbs vs. adjectives at the WORD-POS and WORD-SENSE levels reflect that verbs are more **polysemous** than adjectives - they are more likely to have multiple senses. If even one of these senses has an antonym, at the WORD-POS level the entire word has an antonym."
   ]
  },
  {
   "cell_type": "markdown",
   "metadata": {},
   "source": [
    "### Part 2: Symmetry"
   ]
  },
  {
   "cell_type": "markdown",
   "metadata": {},
   "source": [
    "Examine the dataframe (created above) that only contains words with antonyms. Add antonym count as a column in preparation for symmetry calculation."
   ]
  },
  {
   "cell_type": "code",
   "execution_count": 24,
   "metadata": {
    "scrolled": false
   },
   "outputs": [
    {
     "name": "stdout",
     "output_type": "stream",
     "text": [
      "1    11769\n",
      "2    341  \n",
      "3    17   \n",
      "Name: antonym_count, dtype: int64\n",
      "(12127, 4)\n"
     ]
    },
    {
     "name": "stderr",
     "output_type": "stream",
     "text": [
      "C:\\Users\\Periwynkle\\Anaconda3\\lib\\site-packages\\ipykernel\\__main__.py:1: SettingWithCopyWarning: \n",
      "A value is trying to be set on a copy of a slice from a DataFrame.\n",
      "Try using .loc[row_indexer,col_indexer] = value instead\n",
      "\n",
      "See the caveats in the documentation: http://pandas.pydata.org/pandas-docs/stable/indexing.html#indexing-view-versus-copy\n",
      "  if __name__ == '__main__':\n"
     ]
    },
    {
     "data": {
      "text/html": [
       "<div>\n",
       "<style scoped>\n",
       "    .dataframe tbody tr th:only-of-type {\n",
       "        vertical-align: middle;\n",
       "    }\n",
       "\n",
       "    .dataframe tbody tr th {\n",
       "        vertical-align: top;\n",
       "    }\n",
       "\n",
       "    .dataframe thead th {\n",
       "        text-align: right;\n",
       "    }\n",
       "</style>\n",
       "<table border=\"1\" class=\"dataframe\">\n",
       "  <thead>\n",
       "    <tr style=\"text-align: right;\">\n",
       "      <th></th>\n",
       "      <th>word</th>\n",
       "      <th>pos</th>\n",
       "      <th>antonym</th>\n",
       "      <th>antonym_count</th>\n",
       "    </tr>\n",
       "    <tr>\n",
       "      <th>synset</th>\n",
       "      <th></th>\n",
       "      <th></th>\n",
       "      <th></th>\n",
       "      <th></th>\n",
       "    </tr>\n",
       "  </thead>\n",
       "  <tbody>\n",
       "    <tr>\n",
       "      <th>Synset('relative.a.01')</th>\n",
       "      <td>relative</td>\n",
       "      <td>adjective</td>\n",
       "      <td>[Lemma('absolute.a.01.absolute')]</td>\n",
       "      <td>1</td>\n",
       "    </tr>\n",
       "    <tr>\n",
       "      <th>Synset('desecrate.v.02')</th>\n",
       "      <td>unhallowed</td>\n",
       "      <td>verb</td>\n",
       "      <td>[Lemma('consecrate.v.04.consecrate')]</td>\n",
       "      <td>1</td>\n",
       "    </tr>\n",
       "    <tr>\n",
       "      <th>Synset('uninviting.a.01')</th>\n",
       "      <td>uninviting</td>\n",
       "      <td>adjective</td>\n",
       "      <td>[Lemma('inviting.a.01.inviting')]</td>\n",
       "      <td>1</td>\n",
       "    </tr>\n",
       "    <tr>\n",
       "      <th>Synset('gloveless.a.01')</th>\n",
       "      <td>gloveless</td>\n",
       "      <td>adjective</td>\n",
       "      <td>[Lemma('gloved.a.01.gloved')]</td>\n",
       "      <td>1</td>\n",
       "    </tr>\n",
       "    <tr>\n",
       "      <th>Synset('drop_out.v.01')</th>\n",
       "      <td>drop_by_the_wayside</td>\n",
       "      <td>verb</td>\n",
       "      <td>[Lemma('enter.v.02.enter')]</td>\n",
       "      <td>1</td>\n",
       "    </tr>\n",
       "    <tr>\n",
       "      <th>Synset('stop.v.01')</th>\n",
       "      <td>halt</td>\n",
       "      <td>verb</td>\n",
       "      <td>[Lemma('start.v.09.start')]</td>\n",
       "      <td>1</td>\n",
       "    </tr>\n",
       "    <tr>\n",
       "      <th>Synset('susceptibility.n.01')</th>\n",
       "      <td>susceptibleness</td>\n",
       "      <td>noun</td>\n",
       "      <td>[Lemma('unsusceptibility.n.01.unsusceptibility')]</td>\n",
       "      <td>1</td>\n",
       "    </tr>\n",
       "    <tr>\n",
       "      <th>Synset('inclement.a.02')</th>\n",
       "      <td>inclement</td>\n",
       "      <td>adjective</td>\n",
       "      <td>[Lemma('clement.a.02.clement')]</td>\n",
       "      <td>1</td>\n",
       "    </tr>\n",
       "    <tr>\n",
       "      <th>Synset('color.n.01')</th>\n",
       "      <td>colour</td>\n",
       "      <td>noun</td>\n",
       "      <td>[Lemma('colorlessness.n.01.colorlessness')]</td>\n",
       "      <td>1</td>\n",
       "    </tr>\n",
       "    <tr>\n",
       "      <th>Synset('unrelated.a.02')</th>\n",
       "      <td>unrelated</td>\n",
       "      <td>adjective</td>\n",
       "      <td>[Lemma('related.a.02.related')]</td>\n",
       "      <td>1</td>\n",
       "    </tr>\n",
       "  </tbody>\n",
       "</table>\n",
       "</div>"
      ],
      "text/plain": [
       "                                              word        pos  \\\n",
       "synset                                                          \n",
       "Synset('relative.a.01')        relative             adjective   \n",
       "Synset('desecrate.v.02')       unhallowed           verb        \n",
       "Synset('uninviting.a.01')      uninviting           adjective   \n",
       "Synset('gloveless.a.01')       gloveless            adjective   \n",
       "Synset('drop_out.v.01')        drop_by_the_wayside  verb        \n",
       "Synset('stop.v.01')            halt                 verb        \n",
       "Synset('susceptibility.n.01')  susceptibleness      noun        \n",
       "Synset('inclement.a.02')       inclement            adjective   \n",
       "Synset('color.n.01')           colour               noun        \n",
       "Synset('unrelated.a.02')       unrelated            adjective   \n",
       "\n",
       "                                                                         antonym  \\\n",
       "synset                                                                             \n",
       "Synset('relative.a.01')        [Lemma('absolute.a.01.absolute')]                   \n",
       "Synset('desecrate.v.02')       [Lemma('consecrate.v.04.consecrate')]               \n",
       "Synset('uninviting.a.01')      [Lemma('inviting.a.01.inviting')]                   \n",
       "Synset('gloveless.a.01')       [Lemma('gloved.a.01.gloved')]                       \n",
       "Synset('drop_out.v.01')        [Lemma('enter.v.02.enter')]                         \n",
       "Synset('stop.v.01')            [Lemma('start.v.09.start')]                         \n",
       "Synset('susceptibility.n.01')  [Lemma('unsusceptibility.n.01.unsusceptibility')]   \n",
       "Synset('inclement.a.02')       [Lemma('clement.a.02.clement')]                     \n",
       "Synset('color.n.01')           [Lemma('colorlessness.n.01.colorlessness')]         \n",
       "Synset('unrelated.a.02')       [Lemma('related.a.02.related')]                     \n",
       "\n",
       "                               antonym_count  \n",
       "synset                                        \n",
       "Synset('relative.a.01')        1              \n",
       "Synset('desecrate.v.02')       1              \n",
       "Synset('uninviting.a.01')      1              \n",
       "Synset('gloveless.a.01')       1              \n",
       "Synset('drop_out.v.01')        1              \n",
       "Synset('stop.v.01')            1              \n",
       "Synset('susceptibility.n.01')  1              \n",
       "Synset('inclement.a.02')       1              \n",
       "Synset('color.n.01')           1              \n",
       "Synset('unrelated.a.02')       1              "
      ]
     },
     "execution_count": 24,
     "metadata": {},
     "output_type": "execute_result"
    }
   ],
   "source": [
    "has_antonym['antonym_count'] = has_antonym.antonym.apply(lambda x: len(x))\n",
    "print(has_antonym['antonym_count'].value_counts())\n",
    "print(has_antonym.shape)\n",
    "has_antonym.sample(10)"
   ]
  },
  {
   "cell_type": "markdown",
   "metadata": {},
   "source": [
    "Test WordNet's antonym structure. Note that some words do not have antonyms."
   ]
  },
  {
   "cell_type": "code",
   "execution_count": 25,
   "metadata": {},
   "outputs": [
    {
     "name": "stdout",
     "output_type": "stream",
     "text": [
      "[Lemma('undramatic.a.01.undramatic')]\n",
      "[Lemma('dramatic.a.01.dramatic')]\n"
     ]
    },
    {
     "data": {
      "text/plain": [
       "True"
      ]
     },
     "execution_count": 25,
     "metadata": {},
     "output_type": "execute_result"
    }
   ],
   "source": [
    "print(wn.lemma('dramatic.a.01.dramatic').antonyms())\n",
    "print(wn.lemma('dramatic.a.01.dramatic').antonyms()[0].antonyms())\n",
    "wn.lemma('dramatic.a.01.dramatic') in wn.lemma('dramatic.a.01.dramatic').antonyms()[0].antonyms()"
   ]
  },
  {
   "cell_type": "code",
   "execution_count": 26,
   "metadata": {},
   "outputs": [
    {
     "name": "stdout",
     "output_type": "stream",
     "text": [
      "[Lemma('xeric.a.01.xeric'), Lemma('hydric.a.01.hydric')]\n",
      "[Lemma('hydric.a.01.hydric'), Lemma('mesic.a.02.mesic')]\n"
     ]
    },
    {
     "data": {
      "text/plain": [
       "True"
      ]
     },
     "execution_count": 26,
     "metadata": {},
     "output_type": "execute_result"
    }
   ],
   "source": [
    "print(wn.lemma('mesic.a.02.mesic').antonyms())\n",
    "print(wn.lemma('mesic.a.02.mesic').antonyms()[0].antonyms())\n",
    "wn.lemma('mesic.a.02.mesic') in wn.lemma('mesic.a.02.mesic').antonyms()[0].antonyms()"
   ]
  },
  {
   "cell_type": "code",
   "execution_count": 27,
   "metadata": {},
   "outputs": [
    {
     "name": "stdout",
     "output_type": "stream",
     "text": [
      "[]\n"
     ]
    }
   ],
   "source": [
    "print(wn.lemma('miss.v.06.lack').antonyms())"
   ]
  },
  {
   "cell_type": "code",
   "execution_count": 28,
   "metadata": {},
   "outputs": [
    {
     "name": "stdout",
     "output_type": "stream",
     "text": [
      "[Lemma('decentralize.v.01.decentralise')]\n",
      "[]\n"
     ]
    }
   ],
   "source": [
    "print(wn.lemma('centralize.v.01.centralise').antonyms())\n",
    "print(wn.lemma('centralize.v.01.centralise').antonyms()[0].antonyms())"
   ]
  },
  {
   "cell_type": "markdown",
   "metadata": {},
   "source": [
    "Calculate symmetry scores at the WORD-LEMMA level, accounting for the fact that some words do not have antonyms, and display words that have a score below 1.0."
   ]
  },
  {
   "cell_type": "code",
   "execution_count": 29,
   "metadata": {},
   "outputs": [
    {
     "name": "stderr",
     "output_type": "stream",
     "text": [
      "C:\\Users\\Periwynkle\\Anaconda3\\lib\\site-packages\\ipykernel\\__main__.py:13: SettingWithCopyWarning: \n",
      "A value is trying to be set on a copy of a slice from a DataFrame.\n",
      "Try using .loc[row_indexer,col_indexer] = value instead\n",
      "\n",
      "See the caveats in the documentation: http://pandas.pydata.org/pandas-docs/stable/indexing.html#indexing-view-versus-copy\n"
     ]
    },
    {
     "data": {
      "text/html": [
       "<div>\n",
       "<style scoped>\n",
       "    .dataframe tbody tr th:only-of-type {\n",
       "        vertical-align: middle;\n",
       "    }\n",
       "\n",
       "    .dataframe tbody tr th {\n",
       "        vertical-align: top;\n",
       "    }\n",
       "\n",
       "    .dataframe thead th {\n",
       "        text-align: right;\n",
       "    }\n",
       "</style>\n",
       "<table border=\"1\" class=\"dataframe\">\n",
       "  <thead>\n",
       "    <tr style=\"text-align: right;\">\n",
       "      <th></th>\n",
       "      <th>word</th>\n",
       "      <th>pos</th>\n",
       "      <th>antonym</th>\n",
       "      <th>antonym_count</th>\n",
       "      <th>symmetry_score</th>\n",
       "    </tr>\n",
       "    <tr>\n",
       "      <th>synset</th>\n",
       "      <th></th>\n",
       "      <th></th>\n",
       "      <th></th>\n",
       "      <th></th>\n",
       "      <th></th>\n",
       "    </tr>\n",
       "  </thead>\n",
       "  <tbody>\n",
       "    <tr>\n",
       "      <th>Synset('outwardness.n.02')</th>\n",
       "      <td>externality</td>\n",
       "      <td>noun</td>\n",
       "      <td>[Lemma('inwardness.n.03.inwardness')]</td>\n",
       "      <td>1</td>\n",
       "      <td>1.0</td>\n",
       "    </tr>\n",
       "    <tr>\n",
       "      <th>Synset('spiritualize.v.01')</th>\n",
       "      <td>spiritualise</td>\n",
       "      <td>verb</td>\n",
       "      <td>[Lemma('literalize.v.01.literalize')]</td>\n",
       "      <td>1</td>\n",
       "      <td>1.0</td>\n",
       "    </tr>\n",
       "    <tr>\n",
       "      <th>Synset('overdress.v.02')</th>\n",
       "      <td>dress_up</td>\n",
       "      <td>verb</td>\n",
       "      <td>[Lemma('dress_down.v.02.underdress')]</td>\n",
       "      <td>1</td>\n",
       "      <td>1.0</td>\n",
       "    </tr>\n",
       "    <tr>\n",
       "      <th>Synset('professional.n.02')</th>\n",
       "      <td>professional</td>\n",
       "      <td>noun</td>\n",
       "      <td>[Lemma('amateur.n.02.amateur')]</td>\n",
       "      <td>1</td>\n",
       "      <td>1.0</td>\n",
       "    </tr>\n",
       "    <tr>\n",
       "      <th>Synset('professional.a.01')</th>\n",
       "      <td>professional</td>\n",
       "      <td>adjective</td>\n",
       "      <td>[Lemma('nonprofessional.a.01.nonprofessional')]</td>\n",
       "      <td>1</td>\n",
       "      <td>1.0</td>\n",
       "    </tr>\n",
       "  </tbody>\n",
       "</table>\n",
       "</div>"
      ],
      "text/plain": [
       "                                     word        pos  \\\n",
       "synset                                                 \n",
       "Synset('outwardness.n.02')   externality   noun        \n",
       "Synset('spiritualize.v.01')  spiritualise  verb        \n",
       "Synset('overdress.v.02')     dress_up      verb        \n",
       "Synset('professional.n.02')  professional  noun        \n",
       "Synset('professional.a.01')  professional  adjective   \n",
       "\n",
       "                                                                     antonym  \\\n",
       "synset                                                                         \n",
       "Synset('outwardness.n.02')   [Lemma('inwardness.n.03.inwardness')]             \n",
       "Synset('spiritualize.v.01')  [Lemma('literalize.v.01.literalize')]             \n",
       "Synset('overdress.v.02')     [Lemma('dress_down.v.02.underdress')]             \n",
       "Synset('professional.n.02')  [Lemma('amateur.n.02.amateur')]                   \n",
       "Synset('professional.a.01')  [Lemma('nonprofessional.a.01.nonprofessional')]   \n",
       "\n",
       "                             antonym_count  symmetry_score  \n",
       "synset                                                      \n",
       "Synset('outwardness.n.02')   1              1.0             \n",
       "Synset('spiritualize.v.01')  1              1.0             \n",
       "Synset('overdress.v.02')     1              1.0             \n",
       "Synset('professional.n.02')  1              1.0             \n",
       "Synset('professional.a.01')  1              1.0             "
      ]
     },
     "execution_count": 29,
     "metadata": {},
     "output_type": "execute_result"
    }
   ],
   "source": [
    "symmetry = [0 for i in range(len(has_antonym))]\n",
    "\n",
    "for count, (index, row) in enumerate(has_antonym.iterrows()):\n",
    "    for antonym in row['antonym']:\n",
    "        if len(antonym.antonyms()) == 0:\n",
    "            continue\n",
    "        elif antonym in antonym.antonyms()[0].antonyms():\n",
    "            symmetry[count] += 1\n",
    "        else:\n",
    "            continue\n",
    "    symmetry[count] = symmetry[count]/row['antonym_count']\n",
    "\n",
    "has_antonym['symmetry_score'] = symmetry\n",
    "has_antonym.head()"
   ]
  },
  {
   "cell_type": "code",
   "execution_count": 30,
   "metadata": {},
   "outputs": [
    {
     "name": "stdout",
     "output_type": "stream",
     "text": [
      "15 words at the WORD-LEMMA level have a symmetry score below 1.0.\n"
     ]
    },
    {
     "data": {
      "text/html": [
       "<div>\n",
       "<style scoped>\n",
       "    .dataframe tbody tr th:only-of-type {\n",
       "        vertical-align: middle;\n",
       "    }\n",
       "\n",
       "    .dataframe tbody tr th {\n",
       "        vertical-align: top;\n",
       "    }\n",
       "\n",
       "    .dataframe thead th {\n",
       "        text-align: right;\n",
       "    }\n",
       "</style>\n",
       "<table border=\"1\" class=\"dataframe\">\n",
       "  <thead>\n",
       "    <tr style=\"text-align: right;\">\n",
       "      <th></th>\n",
       "      <th>word</th>\n",
       "      <th>pos</th>\n",
       "      <th>antonym</th>\n",
       "      <th>antonym_count</th>\n",
       "      <th>symmetry_score</th>\n",
       "    </tr>\n",
       "    <tr>\n",
       "      <th>synset</th>\n",
       "      <th></th>\n",
       "      <th></th>\n",
       "      <th></th>\n",
       "      <th></th>\n",
       "      <th></th>\n",
       "    </tr>\n",
       "  </thead>\n",
       "  <tbody>\n",
       "    <tr>\n",
       "      <th>Synset('decentralize.v.01')</th>\n",
       "      <td>decentralizing</td>\n",
       "      <td>verb</td>\n",
       "      <td>[Lemma('centralize.v.01.centralize'), Lemma('centralize.v.01.centralise')]</td>\n",
       "      <td>2</td>\n",
       "      <td>0.5</td>\n",
       "    </tr>\n",
       "    <tr>\n",
       "      <th>Synset('miss.v.06')</th>\n",
       "      <td>missed</td>\n",
       "      <td>verb</td>\n",
       "      <td>[Lemma('have.v.02.have')]</td>\n",
       "      <td>1</td>\n",
       "      <td>0.0</td>\n",
       "    </tr>\n",
       "    <tr>\n",
       "      <th>Synset('decentralize.v.01')</th>\n",
       "      <td>decentralise</td>\n",
       "      <td>verb</td>\n",
       "      <td>[Lemma('centralize.v.01.centralize'), Lemma('centralize.v.01.centralise')]</td>\n",
       "      <td>2</td>\n",
       "      <td>0.5</td>\n",
       "    </tr>\n",
       "    <tr>\n",
       "      <th>Synset('decentralize.v.01')</th>\n",
       "      <td>decentralized</td>\n",
       "      <td>verb</td>\n",
       "      <td>[Lemma('centralize.v.01.centralize'), Lemma('centralize.v.01.centralise')]</td>\n",
       "      <td>2</td>\n",
       "      <td>0.5</td>\n",
       "    </tr>\n",
       "    <tr>\n",
       "      <th>Synset('miss.v.06')</th>\n",
       "      <td>missing</td>\n",
       "      <td>verb</td>\n",
       "      <td>[Lemma('have.v.02.have')]</td>\n",
       "      <td>1</td>\n",
       "      <td>0.0</td>\n",
       "    </tr>\n",
       "    <tr>\n",
       "      <th>Synset('decentralize.v.01')</th>\n",
       "      <td>decentralising</td>\n",
       "      <td>verb</td>\n",
       "      <td>[Lemma('centralize.v.01.centralize'), Lemma('centralize.v.01.centralise')]</td>\n",
       "      <td>2</td>\n",
       "      <td>0.5</td>\n",
       "    </tr>\n",
       "    <tr>\n",
       "      <th>Synset('decentralize.v.01')</th>\n",
       "      <td>deconcentrate</td>\n",
       "      <td>verb</td>\n",
       "      <td>[Lemma('centralize.v.01.centralize'), Lemma('centralize.v.01.centralise')]</td>\n",
       "      <td>2</td>\n",
       "      <td>0.5</td>\n",
       "    </tr>\n",
       "    <tr>\n",
       "      <th>Synset('have.v.02')</th>\n",
       "      <td>feature</td>\n",
       "      <td>verb</td>\n",
       "      <td>[Lemma('miss.v.06.lack')]</td>\n",
       "      <td>1</td>\n",
       "      <td>0.0</td>\n",
       "    </tr>\n",
       "    <tr>\n",
       "      <th>Synset('decentralize.v.01')</th>\n",
       "      <td>decentralised</td>\n",
       "      <td>verb</td>\n",
       "      <td>[Lemma('centralize.v.01.centralize'), Lemma('centralize.v.01.centralise')]</td>\n",
       "      <td>2</td>\n",
       "      <td>0.5</td>\n",
       "    </tr>\n",
       "    <tr>\n",
       "      <th>Synset('decentralize.v.01')</th>\n",
       "      <td>decentralize</td>\n",
       "      <td>verb</td>\n",
       "      <td>[Lemma('centralize.v.01.centralize'), Lemma('centralize.v.01.centralise')]</td>\n",
       "      <td>2</td>\n",
       "      <td>0.5</td>\n",
       "    </tr>\n",
       "    <tr>\n",
       "      <th>Synset('miss.v.06')</th>\n",
       "      <td>lack</td>\n",
       "      <td>verb</td>\n",
       "      <td>[Lemma('have.v.02.have')]</td>\n",
       "      <td>1</td>\n",
       "      <td>0.0</td>\n",
       "    </tr>\n",
       "    <tr>\n",
       "      <th>Synset('have.v.02')</th>\n",
       "      <td>featured</td>\n",
       "      <td>verb</td>\n",
       "      <td>[Lemma('miss.v.06.lack')]</td>\n",
       "      <td>1</td>\n",
       "      <td>0.0</td>\n",
       "    </tr>\n",
       "    <tr>\n",
       "      <th>Synset('miss.v.06')</th>\n",
       "      <td>lacking</td>\n",
       "      <td>verb</td>\n",
       "      <td>[Lemma('have.v.02.have')]</td>\n",
       "      <td>1</td>\n",
       "      <td>0.0</td>\n",
       "    </tr>\n",
       "    <tr>\n",
       "      <th>Synset('miss.v.06')</th>\n",
       "      <td>miss</td>\n",
       "      <td>verb</td>\n",
       "      <td>[Lemma('have.v.02.have')]</td>\n",
       "      <td>1</td>\n",
       "      <td>0.0</td>\n",
       "    </tr>\n",
       "    <tr>\n",
       "      <th>Synset('have.v.02')</th>\n",
       "      <td>have</td>\n",
       "      <td>verb</td>\n",
       "      <td>[Lemma('miss.v.06.lack')]</td>\n",
       "      <td>1</td>\n",
       "      <td>0.0</td>\n",
       "    </tr>\n",
       "  </tbody>\n",
       "</table>\n",
       "</div>"
      ],
      "text/plain": [
       "                                       word   pos  \\\n",
       "synset                                              \n",
       "Synset('decentralize.v.01')  decentralizing  verb   \n",
       "Synset('miss.v.06')          missed          verb   \n",
       "Synset('decentralize.v.01')  decentralise    verb   \n",
       "Synset('decentralize.v.01')  decentralized   verb   \n",
       "Synset('miss.v.06')          missing         verb   \n",
       "Synset('decentralize.v.01')  decentralising  verb   \n",
       "Synset('decentralize.v.01')  deconcentrate   verb   \n",
       "Synset('have.v.02')          feature         verb   \n",
       "Synset('decentralize.v.01')  decentralised   verb   \n",
       "Synset('decentralize.v.01')  decentralize    verb   \n",
       "Synset('miss.v.06')          lack            verb   \n",
       "Synset('have.v.02')          featured        verb   \n",
       "Synset('miss.v.06')          lacking         verb   \n",
       "Synset('miss.v.06')          miss            verb   \n",
       "Synset('have.v.02')          have            verb   \n",
       "\n",
       "                                                                                                antonym  \\\n",
       "synset                                                                                                    \n",
       "Synset('decentralize.v.01')  [Lemma('centralize.v.01.centralize'), Lemma('centralize.v.01.centralise')]   \n",
       "Synset('miss.v.06')          [Lemma('have.v.02.have')]                                                    \n",
       "Synset('decentralize.v.01')  [Lemma('centralize.v.01.centralize'), Lemma('centralize.v.01.centralise')]   \n",
       "Synset('decentralize.v.01')  [Lemma('centralize.v.01.centralize'), Lemma('centralize.v.01.centralise')]   \n",
       "Synset('miss.v.06')          [Lemma('have.v.02.have')]                                                    \n",
       "Synset('decentralize.v.01')  [Lemma('centralize.v.01.centralize'), Lemma('centralize.v.01.centralise')]   \n",
       "Synset('decentralize.v.01')  [Lemma('centralize.v.01.centralize'), Lemma('centralize.v.01.centralise')]   \n",
       "Synset('have.v.02')          [Lemma('miss.v.06.lack')]                                                    \n",
       "Synset('decentralize.v.01')  [Lemma('centralize.v.01.centralize'), Lemma('centralize.v.01.centralise')]   \n",
       "Synset('decentralize.v.01')  [Lemma('centralize.v.01.centralize'), Lemma('centralize.v.01.centralise')]   \n",
       "Synset('miss.v.06')          [Lemma('have.v.02.have')]                                                    \n",
       "Synset('have.v.02')          [Lemma('miss.v.06.lack')]                                                    \n",
       "Synset('miss.v.06')          [Lemma('have.v.02.have')]                                                    \n",
       "Synset('miss.v.06')          [Lemma('have.v.02.have')]                                                    \n",
       "Synset('have.v.02')          [Lemma('miss.v.06.lack')]                                                    \n",
       "\n",
       "                             antonym_count  symmetry_score  \n",
       "synset                                                      \n",
       "Synset('decentralize.v.01')  2              0.5             \n",
       "Synset('miss.v.06')          1              0.0             \n",
       "Synset('decentralize.v.01')  2              0.5             \n",
       "Synset('decentralize.v.01')  2              0.5             \n",
       "Synset('miss.v.06')          1              0.0             \n",
       "Synset('decentralize.v.01')  2              0.5             \n",
       "Synset('decentralize.v.01')  2              0.5             \n",
       "Synset('have.v.02')          1              0.0             \n",
       "Synset('decentralize.v.01')  2              0.5             \n",
       "Synset('decentralize.v.01')  2              0.5             \n",
       "Synset('miss.v.06')          1              0.0             \n",
       "Synset('have.v.02')          1              0.0             \n",
       "Synset('miss.v.06')          1              0.0             \n",
       "Synset('miss.v.06')          1              0.0             \n",
       "Synset('have.v.02')          1              0.0             "
      ]
     },
     "execution_count": 30,
     "metadata": {},
     "output_type": "execute_result"
    }
   ],
   "source": [
    "print(len(has_antonym[has_antonym.symmetry_score < 1.0]), 'words at the WORD-LEMMA level have a symmetry score below 1.0.')\n",
    "has_antonym[has_antonym.symmetry_score < 1.0]"
   ]
  },
  {
   "cell_type": "markdown",
   "metadata": {},
   "source": [
    "Aggregate to the WORD-POS level and display the words with a symmetry score below 1.0."
   ]
  },
  {
   "cell_type": "code",
   "execution_count": 31,
   "metadata": {},
   "outputs": [
    {
     "data": {
      "text/html": [
       "<div>\n",
       "<style scoped>\n",
       "    .dataframe tbody tr th:only-of-type {\n",
       "        vertical-align: middle;\n",
       "    }\n",
       "\n",
       "    .dataframe tbody tr th {\n",
       "        vertical-align: top;\n",
       "    }\n",
       "\n",
       "    .dataframe thead th {\n",
       "        text-align: right;\n",
       "    }\n",
       "</style>\n",
       "<table border=\"1\" class=\"dataframe\">\n",
       "  <thead>\n",
       "    <tr style=\"text-align: right;\">\n",
       "      <th></th>\n",
       "      <th>word</th>\n",
       "      <th>pos</th>\n",
       "      <th>antonym_count</th>\n",
       "      <th>symmetry_score</th>\n",
       "    </tr>\n",
       "  </thead>\n",
       "  <tbody>\n",
       "    <tr>\n",
       "      <th>0</th>\n",
       "      <td>a_la_carte</td>\n",
       "      <td>adjective</td>\n",
       "      <td>1.0</td>\n",
       "      <td>1.0</td>\n",
       "    </tr>\n",
       "    <tr>\n",
       "      <th>1</th>\n",
       "      <td>a_posteriori</td>\n",
       "      <td>adjective</td>\n",
       "      <td>1.0</td>\n",
       "      <td>1.0</td>\n",
       "    </tr>\n",
       "    <tr>\n",
       "      <th>2</th>\n",
       "      <td>a_priori</td>\n",
       "      <td>adjective</td>\n",
       "      <td>1.0</td>\n",
       "      <td>1.0</td>\n",
       "    </tr>\n",
       "    <tr>\n",
       "      <th>3</th>\n",
       "      <td>abactinal</td>\n",
       "      <td>adjective</td>\n",
       "      <td>1.0</td>\n",
       "      <td>1.0</td>\n",
       "    </tr>\n",
       "    <tr>\n",
       "      <th>4</th>\n",
       "      <td>abaxial</td>\n",
       "      <td>adjective</td>\n",
       "      <td>1.0</td>\n",
       "      <td>1.0</td>\n",
       "    </tr>\n",
       "  </tbody>\n",
       "</table>\n",
       "</div>"
      ],
      "text/plain": [
       "           word        pos  antonym_count  symmetry_score\n",
       "0  a_la_carte    adjective  1.0            1.0           \n",
       "1  a_posteriori  adjective  1.0            1.0           \n",
       "2  a_priori      adjective  1.0            1.0           \n",
       "3  abactinal     adjective  1.0            1.0           \n",
       "4  abaxial       adjective  1.0            1.0           "
      ]
     },
     "execution_count": 31,
     "metadata": {},
     "output_type": "execute_result"
    }
   ],
   "source": [
    "words_symmetry_df = has_antonym.groupby(['word', 'pos']).mean().reset_index()\n",
    "words_symmetry_df.head()"
   ]
  },
  {
   "cell_type": "code",
   "execution_count": 32,
   "metadata": {
    "scrolled": false
   },
   "outputs": [
    {
     "data": {
      "text/html": [
       "<div>\n",
       "<style scoped>\n",
       "    .dataframe tbody tr th:only-of-type {\n",
       "        vertical-align: middle;\n",
       "    }\n",
       "\n",
       "    .dataframe tbody tr th {\n",
       "        vertical-align: top;\n",
       "    }\n",
       "\n",
       "    .dataframe thead th {\n",
       "        text-align: right;\n",
       "    }\n",
       "</style>\n",
       "<table border=\"1\" class=\"dataframe\">\n",
       "  <thead>\n",
       "    <tr style=\"text-align: right;\">\n",
       "      <th></th>\n",
       "      <th>word</th>\n",
       "      <th>pos</th>\n",
       "      <th>antonym_count</th>\n",
       "      <th>symmetry_score</th>\n",
       "    </tr>\n",
       "  </thead>\n",
       "  <tbody>\n",
       "    <tr>\n",
       "      <th>1937</th>\n",
       "      <td>decentralise</td>\n",
       "      <td>verb</td>\n",
       "      <td>2.0</td>\n",
       "      <td>0.500000</td>\n",
       "    </tr>\n",
       "    <tr>\n",
       "      <th>1939</th>\n",
       "      <td>decentralised</td>\n",
       "      <td>verb</td>\n",
       "      <td>2.0</td>\n",
       "      <td>0.500000</td>\n",
       "    </tr>\n",
       "    <tr>\n",
       "      <th>1941</th>\n",
       "      <td>decentralising</td>\n",
       "      <td>verb</td>\n",
       "      <td>2.0</td>\n",
       "      <td>0.500000</td>\n",
       "    </tr>\n",
       "    <tr>\n",
       "      <th>1943</th>\n",
       "      <td>decentralize</td>\n",
       "      <td>verb</td>\n",
       "      <td>2.0</td>\n",
       "      <td>0.500000</td>\n",
       "    </tr>\n",
       "    <tr>\n",
       "      <th>1945</th>\n",
       "      <td>decentralized</td>\n",
       "      <td>verb</td>\n",
       "      <td>2.0</td>\n",
       "      <td>0.500000</td>\n",
       "    </tr>\n",
       "    <tr>\n",
       "      <th>1947</th>\n",
       "      <td>decentralizing</td>\n",
       "      <td>verb</td>\n",
       "      <td>2.0</td>\n",
       "      <td>0.500000</td>\n",
       "    </tr>\n",
       "    <tr>\n",
       "      <th>1978</th>\n",
       "      <td>deconcentrate</td>\n",
       "      <td>verb</td>\n",
       "      <td>2.0</td>\n",
       "      <td>0.500000</td>\n",
       "    </tr>\n",
       "    <tr>\n",
       "      <th>3232</th>\n",
       "      <td>feature</td>\n",
       "      <td>verb</td>\n",
       "      <td>1.0</td>\n",
       "      <td>0.000000</td>\n",
       "    </tr>\n",
       "    <tr>\n",
       "      <th>3233</th>\n",
       "      <td>featured</td>\n",
       "      <td>verb</td>\n",
       "      <td>1.0</td>\n",
       "      <td>0.000000</td>\n",
       "    </tr>\n",
       "    <tr>\n",
       "      <th>3749</th>\n",
       "      <td>have</td>\n",
       "      <td>verb</td>\n",
       "      <td>1.0</td>\n",
       "      <td>0.666667</td>\n",
       "    </tr>\n",
       "    <tr>\n",
       "      <th>4901</th>\n",
       "      <td>lack</td>\n",
       "      <td>verb</td>\n",
       "      <td>1.0</td>\n",
       "      <td>0.000000</td>\n",
       "    </tr>\n",
       "    <tr>\n",
       "      <th>4902</th>\n",
       "      <td>lacking</td>\n",
       "      <td>verb</td>\n",
       "      <td>1.0</td>\n",
       "      <td>0.000000</td>\n",
       "    </tr>\n",
       "    <tr>\n",
       "      <th>5508</th>\n",
       "      <td>miss</td>\n",
       "      <td>verb</td>\n",
       "      <td>1.0</td>\n",
       "      <td>0.750000</td>\n",
       "    </tr>\n",
       "    <tr>\n",
       "      <th>5509</th>\n",
       "      <td>missed</td>\n",
       "      <td>verb</td>\n",
       "      <td>1.0</td>\n",
       "      <td>0.750000</td>\n",
       "    </tr>\n",
       "    <tr>\n",
       "      <th>5510</th>\n",
       "      <td>missing</td>\n",
       "      <td>verb</td>\n",
       "      <td>1.0</td>\n",
       "      <td>0.750000</td>\n",
       "    </tr>\n",
       "  </tbody>\n",
       "</table>\n",
       "</div>"
      ],
      "text/plain": [
       "                word   pos  antonym_count  symmetry_score\n",
       "1937  decentralise    verb  2.0            0.500000      \n",
       "1939  decentralised   verb  2.0            0.500000      \n",
       "1941  decentralising  verb  2.0            0.500000      \n",
       "1943  decentralize    verb  2.0            0.500000      \n",
       "1945  decentralized   verb  2.0            0.500000      \n",
       "1947  decentralizing  verb  2.0            0.500000      \n",
       "1978  deconcentrate   verb  2.0            0.500000      \n",
       "3232  feature         verb  1.0            0.000000      \n",
       "3233  featured        verb  1.0            0.000000      \n",
       "3749  have            verb  1.0            0.666667      \n",
       "4901  lack            verb  1.0            0.000000      \n",
       "4902  lacking         verb  1.0            0.000000      \n",
       "5508  miss            verb  1.0            0.750000      \n",
       "5509  missed          verb  1.0            0.750000      \n",
       "5510  missing         verb  1.0            0.750000      "
      ]
     },
     "execution_count": 32,
     "metadata": {},
     "output_type": "execute_result"
    }
   ],
   "source": [
    "words_symmetry_df[words_symmetry_df.symmetry_score < 1.0]"
   ]
  },
  {
   "cell_type": "markdown",
   "metadata": {},
   "source": [
    "Sanity check to make sure the average scores are accurate."
   ]
  },
  {
   "cell_type": "code",
   "execution_count": 33,
   "metadata": {},
   "outputs": [
    {
     "data": {
      "text/html": [
       "<div>\n",
       "<style scoped>\n",
       "    .dataframe tbody tr th:only-of-type {\n",
       "        vertical-align: middle;\n",
       "    }\n",
       "\n",
       "    .dataframe tbody tr th {\n",
       "        vertical-align: top;\n",
       "    }\n",
       "\n",
       "    .dataframe thead th {\n",
       "        text-align: right;\n",
       "    }\n",
       "</style>\n",
       "<table border=\"1\" class=\"dataframe\">\n",
       "  <thead>\n",
       "    <tr style=\"text-align: right;\">\n",
       "      <th></th>\n",
       "      <th>word</th>\n",
       "      <th>pos</th>\n",
       "      <th>antonym</th>\n",
       "      <th>antonym_count</th>\n",
       "      <th>symmetry_score</th>\n",
       "    </tr>\n",
       "    <tr>\n",
       "      <th>synset</th>\n",
       "      <th></th>\n",
       "      <th></th>\n",
       "      <th></th>\n",
       "      <th></th>\n",
       "      <th></th>\n",
       "    </tr>\n",
       "  </thead>\n",
       "  <tbody>\n",
       "    <tr>\n",
       "      <th>Synset('miss.v.03')</th>\n",
       "      <td>miss</td>\n",
       "      <td>verb</td>\n",
       "      <td>[Lemma('attend.v.01.attend')]</td>\n",
       "      <td>1</td>\n",
       "      <td>1.0</td>\n",
       "    </tr>\n",
       "    <tr>\n",
       "      <th>Synset('neglect.v.01')</th>\n",
       "      <td>miss</td>\n",
       "      <td>verb</td>\n",
       "      <td>[Lemma('attend_to.v.01.attend_to')]</td>\n",
       "      <td>1</td>\n",
       "      <td>1.0</td>\n",
       "    </tr>\n",
       "    <tr>\n",
       "      <th>Synset('miss.v.06')</th>\n",
       "      <td>miss</td>\n",
       "      <td>verb</td>\n",
       "      <td>[Lemma('have.v.02.have')]</td>\n",
       "      <td>1</td>\n",
       "      <td>0.0</td>\n",
       "    </tr>\n",
       "    <tr>\n",
       "      <th>Synset('miss.v.07')</th>\n",
       "      <td>miss</td>\n",
       "      <td>verb</td>\n",
       "      <td>[Lemma('hit.v.02.hit')]</td>\n",
       "      <td>1</td>\n",
       "      <td>1.0</td>\n",
       "    </tr>\n",
       "  </tbody>\n",
       "</table>\n",
       "</div>"
      ],
      "text/plain": [
       "                        word   pos                              antonym  \\\n",
       "synset                                                                    \n",
       "Synset('miss.v.03')     miss  verb  [Lemma('attend.v.01.attend')]         \n",
       "Synset('neglect.v.01')  miss  verb  [Lemma('attend_to.v.01.attend_to')]   \n",
       "Synset('miss.v.06')     miss  verb  [Lemma('have.v.02.have')]             \n",
       "Synset('miss.v.07')     miss  verb  [Lemma('hit.v.02.hit')]               \n",
       "\n",
       "                        antonym_count  symmetry_score  \n",
       "synset                                                 \n",
       "Synset('miss.v.03')     1              1.0             \n",
       "Synset('neglect.v.01')  1              1.0             \n",
       "Synset('miss.v.06')     1              0.0             \n",
       "Synset('miss.v.07')     1              1.0             "
      ]
     },
     "execution_count": 33,
     "metadata": {},
     "output_type": "execute_result"
    }
   ],
   "source": [
    "has_antonym[has_antonym.word == 'miss']"
   ]
  },
  {
   "cell_type": "code",
   "execution_count": 34,
   "metadata": {},
   "outputs": [
    {
     "data": {
      "image/png": "[encoded data removed]",
      "text/plain": [
       "<Figure size 1152x576 with 1 Axes>"
      ]
     },
     "metadata": {},
     "output_type": "display_data"
    }
   ],
   "source": [
    "sns.set(font_scale=1.75)\n",
    "fig = plt.figure(figsize=(16,8))\n",
    "sns.boxplot(x='pos', y='symmetry_score', data=words_symmetry_df)\n",
    "plt.title('Boxplot of Symmetry Scores by POS')\n",
    "plt.ylabel('Symmetry Score')\n",
    "plt.xlabel('POS');"
   ]
  },
  {
   "cell_type": "markdown",
   "metadata": {},
   "source": [
    "*QUESTION 3: Display the three distributions using boxplots. Comment briefly on what you see\n",
    "in your plot.*\n",
    "\n",
    "The vast majority of words that have antonyms are perfectly symmetrical (there is a huge concentration of scores at 1.0). Only 15 words do not have symmetry scores of 1.0, and they are all verbs. Closer inspection reveals that these words are morphologically related to each other: e.g., feature, featured; lack, lacking; miss, missed, missing. About half of the words are variants of decentralise/decentralize, and this British vs. North American spelling accounts for the lack of perfect symmetry. Thus, in these cases the lack of symmetry is due to a technicality. Miller's (1995) claim about the antonym relation has been strongly affirmed."
   ]
  },
  {
   "cell_type": "markdown",
   "metadata": {},
   "source": [
    "### Part 3: Similarity"
   ]
  },
  {
   "cell_type": "code",
   "execution_count": 35,
   "metadata": {},
   "outputs": [],
   "source": [
    "graveyard = wn.synsets('graveyard')[0]\n",
    "madhouse = wn.synsets('madhouse')[0]\n",
    "furnace = wn.synsets('furnace')[0]\n",
    "implement = wn.synsets('implement')[0]\n",
    "midday = wn.synsets('midday')[0]\n",
    "noon = wn.synsets('noon')[0]"
   ]
  },
  {
   "cell_type": "code",
   "execution_count": 36,
   "metadata": {},
   "outputs": [
    {
     "name": "stdout",
     "output_type": "stream",
     "text": [
      "0.06666666666666667\n",
      "0.125\n",
      "1.0\n",
      "1.0\n",
      "1.0\n"
     ]
    }
   ],
   "source": [
    "print(graveyard.path_similarity(madhouse))\n",
    "print(furnace.path_similarity(implement))\n",
    "print(midday.path_similarity(noon))\n",
    "print(graveyard.path_similarity(graveyard))\n",
    "print(midday.path_similarity(midday))"
   ]
  },
  {
   "cell_type": "code",
   "execution_count": 37,
   "metadata": {},
   "outputs": [
    {
     "name": "stdout",
     "output_type": "stream",
     "text": [
      "0.9295359586241757\n",
      "1.55814461804655\n",
      "3.6375861597263857\n",
      "3.6375861597263857\n",
      "3.6375861597263857\n"
     ]
    }
   ],
   "source": [
    "print(graveyard.lch_similarity(madhouse))\n",
    "print(furnace.lch_similarity(implement))\n",
    "print(midday.lch_similarity(noon))\n",
    "print(graveyard.lch_similarity(graveyard))\n",
    "print(midday.lch_similarity(midday))"
   ]
  },
  {
   "cell_type": "markdown",
   "metadata": {},
   "source": [
    "Given these examples, identity emerges as the limit for large similarity for both `path_similarity` and `lch_similarity`. To test whether this is always the case for `lch_similarity`, words from taxonomies with different depths should be examined."
   ]
  },
  {
   "cell_type": "code",
   "execution_count": 38,
   "metadata": {},
   "outputs": [
    {
     "name": "stdout",
     "output_type": "stream",
     "text": [
      "(6973, 5)\n"
     ]
    },
    {
     "data": {
      "text/html": [
       "<div>\n",
       "<style scoped>\n",
       "    .dataframe tbody tr th:only-of-type {\n",
       "        vertical-align: middle;\n",
       "    }\n",
       "\n",
       "    .dataframe tbody tr th {\n",
       "        vertical-align: top;\n",
       "    }\n",
       "\n",
       "    .dataframe thead th {\n",
       "        text-align: right;\n",
       "    }\n",
       "</style>\n",
       "<table border=\"1\" class=\"dataframe\">\n",
       "  <thead>\n",
       "    <tr style=\"text-align: right;\">\n",
       "      <th></th>\n",
       "      <th>word</th>\n",
       "      <th>pos</th>\n",
       "      <th>antonym</th>\n",
       "      <th>antonym_count</th>\n",
       "      <th>symmetry_score</th>\n",
       "    </tr>\n",
       "    <tr>\n",
       "      <th>synset</th>\n",
       "      <th></th>\n",
       "      <th></th>\n",
       "      <th></th>\n",
       "      <th></th>\n",
       "      <th></th>\n",
       "    </tr>\n",
       "  </thead>\n",
       "  <tbody>\n",
       "    <tr>\n",
       "      <th>Synset('outwardness.n.02')</th>\n",
       "      <td>externality</td>\n",
       "      <td>noun</td>\n",
       "      <td>[Lemma('inwardness.n.03.inwardness')]</td>\n",
       "      <td>1</td>\n",
       "      <td>1.0</td>\n",
       "    </tr>\n",
       "    <tr>\n",
       "      <th>Synset('spiritualize.v.01')</th>\n",
       "      <td>spiritualise</td>\n",
       "      <td>verb</td>\n",
       "      <td>[Lemma('literalize.v.01.literalize')]</td>\n",
       "      <td>1</td>\n",
       "      <td>1.0</td>\n",
       "    </tr>\n",
       "    <tr>\n",
       "      <th>Synset('overdress.v.02')</th>\n",
       "      <td>dress_up</td>\n",
       "      <td>verb</td>\n",
       "      <td>[Lemma('dress_down.v.02.underdress')]</td>\n",
       "      <td>1</td>\n",
       "      <td>1.0</td>\n",
       "    </tr>\n",
       "    <tr>\n",
       "      <th>Synset('professional.n.02')</th>\n",
       "      <td>professional</td>\n",
       "      <td>noun</td>\n",
       "      <td>[Lemma('amateur.n.02.amateur')]</td>\n",
       "      <td>1</td>\n",
       "      <td>1.0</td>\n",
       "    </tr>\n",
       "    <tr>\n",
       "      <th>Synset('antagonist.n.03')</th>\n",
       "      <td>antagonist</td>\n",
       "      <td>noun</td>\n",
       "      <td>[Lemma('synergist.n.01.synergist')]</td>\n",
       "      <td>1</td>\n",
       "      <td>1.0</td>\n",
       "    </tr>\n",
       "  </tbody>\n",
       "</table>\n",
       "</div>"
      ],
      "text/plain": [
       "                                     word   pos  \\\n",
       "synset                                            \n",
       "Synset('outwardness.n.02')   externality   noun   \n",
       "Synset('spiritualize.v.01')  spiritualise  verb   \n",
       "Synset('overdress.v.02')     dress_up      verb   \n",
       "Synset('professional.n.02')  professional  noun   \n",
       "Synset('antagonist.n.03')    antagonist    noun   \n",
       "\n",
       "                                                           antonym  \\\n",
       "synset                                                               \n",
       "Synset('outwardness.n.02')   [Lemma('inwardness.n.03.inwardness')]   \n",
       "Synset('spiritualize.v.01')  [Lemma('literalize.v.01.literalize')]   \n",
       "Synset('overdress.v.02')     [Lemma('dress_down.v.02.underdress')]   \n",
       "Synset('professional.n.02')  [Lemma('amateur.n.02.amateur')]         \n",
       "Synset('antagonist.n.03')    [Lemma('synergist.n.01.synergist')]     \n",
       "\n",
       "                             antonym_count  symmetry_score  \n",
       "synset                                                      \n",
       "Synset('outwardness.n.02')   1              1.0             \n",
       "Synset('spiritualize.v.01')  1              1.0             \n",
       "Synset('overdress.v.02')     1              1.0             \n",
       "Synset('professional.n.02')  1              1.0             \n",
       "Synset('antagonist.n.03')    1              1.0             "
      ]
     },
     "execution_count": 38,
     "metadata": {},
     "output_type": "execute_result"
    }
   ],
   "source": [
    "similarity_df = has_antonym[(has_antonym.pos=='noun') | (has_antonym.pos=='verb')]\n",
    "print(similarity_df.shape)\n",
    "similarity_df.head()"
   ]
  },
  {
   "cell_type": "markdown",
   "metadata": {},
   "source": [
    "Test lemma to synset and `path_similarity` methods."
   ]
  },
  {
   "cell_type": "code",
   "execution_count": 39,
   "metadata": {},
   "outputs": [
    {
     "data": {
      "text/plain": [
       "Synset('transparency.n.01')"
      ]
     },
     "execution_count": 39,
     "metadata": {},
     "output_type": "execute_result"
    }
   ],
   "source": [
    "wn.lemma('transparency.n.01.transparency').synset()"
   ]
  },
  {
   "cell_type": "code",
   "execution_count": 40,
   "metadata": {},
   "outputs": [
    {
     "data": {
      "text/plain": [
       "0.3333333333333333"
      ]
     },
     "execution_count": 40,
     "metadata": {},
     "output_type": "execute_result"
    }
   ],
   "source": [
    "wn.synset('opacity.n.01').path_similarity(wn.synset('transparency.n.01'))"
   ]
  },
  {
   "cell_type": "markdown",
   "metadata": {},
   "source": [
    "Test random sampling of a synset from the same POS."
   ]
  },
  {
   "cell_type": "code",
   "execution_count": 41,
   "metadata": {},
   "outputs": [
    {
     "data": {
      "text/plain": [
       "Synset('queen.n.02')"
      ]
     },
     "execution_count": 41,
     "metadata": {},
     "output_type": "execute_result"
    }
   ],
   "source": [
    "similarity_df[similarity_df.pos=='noun'].sample(1).index[0]"
   ]
  },
  {
   "cell_type": "code",
   "execution_count": 42,
   "metadata": {},
   "outputs": [
    {
     "name": "stdout",
     "output_type": "stream",
     "text": [
      "[0.3333333333333333, 0.3333333333333333, 0.3333333333333333, 0.3333333333333333, 0.3333333333333333, 0.125, 0.09090909090909091, 0.25, 0.058823529411764705, 0.3333333333333333]\n",
      "[0.14285714285714285, 0.125, 0.16666666666666666, 0.08333333333333333, 0.08333333333333333, 0.07142857142857142, 0.14285714285714285, 0.07692307692307693, 0.07142857142857142, 0.14285714285714285]\n"
     ]
    }
   ],
   "source": [
    "path_similarity_antonym = []\n",
    "path_similarity_random = []\n",
    "\n",
    "for count, (index, row) in enumerate(similarity_df.iterrows()):\n",
    "    antonym_synset = row['antonym'][0].synset()\n",
    "    synset_pos = row['pos']\n",
    "    random_synset = similarity_df[similarity_df.pos==synset_pos].sample(1).index[0]\n",
    "    path_similarity_antonym.append(index.path_similarity(antonym_synset))\n",
    "    path_similarity_random.append(index.path_similarity(random_synset))\n",
    "    \n",
    "print(path_similarity_antonym[:10])\n",
    "print(path_similarity_random[:10])"
   ]
  },
  {
   "cell_type": "code",
   "execution_count": 43,
   "metadata": {
    "scrolled": false
   },
   "outputs": [
    {
     "name": "stderr",
     "output_type": "stream",
     "text": [
      "C:\\Users\\Periwynkle\\Anaconda3\\lib\\site-packages\\ipykernel\\__main__.py:1: SettingWithCopyWarning: \n",
      "A value is trying to be set on a copy of a slice from a DataFrame.\n",
      "Try using .loc[row_indexer,col_indexer] = value instead\n",
      "\n",
      "See the caveats in the documentation: http://pandas.pydata.org/pandas-docs/stable/indexing.html#indexing-view-versus-copy\n",
      "  if __name__ == '__main__':\n",
      "C:\\Users\\Periwynkle\\Anaconda3\\lib\\site-packages\\ipykernel\\__main__.py:2: SettingWithCopyWarning: \n",
      "A value is trying to be set on a copy of a slice from a DataFrame.\n",
      "Try using .loc[row_indexer,col_indexer] = value instead\n",
      "\n",
      "See the caveats in the documentation: http://pandas.pydata.org/pandas-docs/stable/indexing.html#indexing-view-versus-copy\n",
      "  from ipykernel import kernelapp as app\n"
     ]
    },
    {
     "data": {
      "text/html": [
       "<div>\n",
       "<style scoped>\n",
       "    .dataframe tbody tr th:only-of-type {\n",
       "        vertical-align: middle;\n",
       "    }\n",
       "\n",
       "    .dataframe tbody tr th {\n",
       "        vertical-align: top;\n",
       "    }\n",
       "\n",
       "    .dataframe thead th {\n",
       "        text-align: right;\n",
       "    }\n",
       "</style>\n",
       "<table border=\"1\" class=\"dataframe\">\n",
       "  <thead>\n",
       "    <tr style=\"text-align: right;\">\n",
       "      <th></th>\n",
       "      <th>word</th>\n",
       "      <th>pos</th>\n",
       "      <th>antonym</th>\n",
       "      <th>antonym_count</th>\n",
       "      <th>symmetry_score</th>\n",
       "      <th>path_similarity_antonym</th>\n",
       "      <th>path_similarity_random</th>\n",
       "    </tr>\n",
       "    <tr>\n",
       "      <th>synset</th>\n",
       "      <th></th>\n",
       "      <th></th>\n",
       "      <th></th>\n",
       "      <th></th>\n",
       "      <th></th>\n",
       "      <th></th>\n",
       "      <th></th>\n",
       "    </tr>\n",
       "  </thead>\n",
       "  <tbody>\n",
       "    <tr>\n",
       "      <th>Synset('outwardness.n.02')</th>\n",
       "      <td>externality</td>\n",
       "      <td>noun</td>\n",
       "      <td>[Lemma('inwardness.n.03.inwardness')]</td>\n",
       "      <td>1</td>\n",
       "      <td>1.0</td>\n",
       "      <td>0.333333</td>\n",
       "      <td>0.142857</td>\n",
       "    </tr>\n",
       "    <tr>\n",
       "      <th>Synset('spiritualize.v.01')</th>\n",
       "      <td>spiritualise</td>\n",
       "      <td>verb</td>\n",
       "      <td>[Lemma('literalize.v.01.literalize')]</td>\n",
       "      <td>1</td>\n",
       "      <td>1.0</td>\n",
       "      <td>0.333333</td>\n",
       "      <td>0.125000</td>\n",
       "    </tr>\n",
       "    <tr>\n",
       "      <th>Synset('overdress.v.02')</th>\n",
       "      <td>dress_up</td>\n",
       "      <td>verb</td>\n",
       "      <td>[Lemma('dress_down.v.02.underdress')]</td>\n",
       "      <td>1</td>\n",
       "      <td>1.0</td>\n",
       "      <td>0.333333</td>\n",
       "      <td>0.166667</td>\n",
       "    </tr>\n",
       "    <tr>\n",
       "      <th>Synset('professional.n.02')</th>\n",
       "      <td>professional</td>\n",
       "      <td>noun</td>\n",
       "      <td>[Lemma('amateur.n.02.amateur')]</td>\n",
       "      <td>1</td>\n",
       "      <td>1.0</td>\n",
       "      <td>0.333333</td>\n",
       "      <td>0.083333</td>\n",
       "    </tr>\n",
       "    <tr>\n",
       "      <th>Synset('antagonist.n.03')</th>\n",
       "      <td>antagonist</td>\n",
       "      <td>noun</td>\n",
       "      <td>[Lemma('synergist.n.01.synergist')]</td>\n",
       "      <td>1</td>\n",
       "      <td>1.0</td>\n",
       "      <td>0.333333</td>\n",
       "      <td>0.083333</td>\n",
       "    </tr>\n",
       "  </tbody>\n",
       "</table>\n",
       "</div>"
      ],
      "text/plain": [
       "                                     word   pos  \\\n",
       "synset                                            \n",
       "Synset('outwardness.n.02')   externality   noun   \n",
       "Synset('spiritualize.v.01')  spiritualise  verb   \n",
       "Synset('overdress.v.02')     dress_up      verb   \n",
       "Synset('professional.n.02')  professional  noun   \n",
       "Synset('antagonist.n.03')    antagonist    noun   \n",
       "\n",
       "                                                           antonym  \\\n",
       "synset                                                               \n",
       "Synset('outwardness.n.02')   [Lemma('inwardness.n.03.inwardness')]   \n",
       "Synset('spiritualize.v.01')  [Lemma('literalize.v.01.literalize')]   \n",
       "Synset('overdress.v.02')     [Lemma('dress_down.v.02.underdress')]   \n",
       "Synset('professional.n.02')  [Lemma('amateur.n.02.amateur')]         \n",
       "Synset('antagonist.n.03')    [Lemma('synergist.n.01.synergist')]     \n",
       "\n",
       "                             antonym_count  symmetry_score  \\\n",
       "synset                                                       \n",
       "Synset('outwardness.n.02')   1              1.0              \n",
       "Synset('spiritualize.v.01')  1              1.0              \n",
       "Synset('overdress.v.02')     1              1.0              \n",
       "Synset('professional.n.02')  1              1.0              \n",
       "Synset('antagonist.n.03')    1              1.0              \n",
       "\n",
       "                             path_similarity_antonym  path_similarity_random  \n",
       "synset                                                                        \n",
       "Synset('outwardness.n.02')   0.333333                 0.142857                \n",
       "Synset('spiritualize.v.01')  0.333333                 0.125000                \n",
       "Synset('overdress.v.02')     0.333333                 0.166667                \n",
       "Synset('professional.n.02')  0.333333                 0.083333                \n",
       "Synset('antagonist.n.03')    0.333333                 0.083333                "
      ]
     },
     "execution_count": 43,
     "metadata": {},
     "output_type": "execute_result"
    }
   ],
   "source": [
    "similarity_df['path_similarity_antonym'] = path_similarity_antonym\n",
    "similarity_df['path_similarity_random'] = path_similarity_random\n",
    "similarity_df.head()"
   ]
  },
  {
   "cell_type": "markdown",
   "metadata": {},
   "source": [
    "Check for no value."
   ]
  },
  {
   "cell_type": "code",
   "execution_count": 44,
   "metadata": {},
   "outputs": [
    {
     "name": "stdout",
     "output_type": "stream",
     "text": [
      "0\n",
      "0\n"
     ]
    }
   ],
   "source": [
    "print(len(similarity_df[similarity_df.path_similarity_antonym.isnull()]))\n",
    "print(len(similarity_df[similarity_df.path_similarity_random.isnull()]))"
   ]
  },
  {
   "cell_type": "code",
   "execution_count": 45,
   "metadata": {},
   "outputs": [
    {
     "name": "stderr",
     "output_type": "stream",
     "text": [
      "C:\\Users\\Periwynkle\\Anaconda3\\lib\\site-packages\\matplotlib\\axes\\_axes.py:6462: UserWarning: The 'normed' kwarg is deprecated, and has been replaced by the 'density' kwarg.\n",
      "  warnings.warn(\"The 'normed' kwarg is deprecated, and has been \"\n"
     ]
    },
    {
     "data": {
      "image/png": "[encoded data removed]",
      "text/plain": [
       "<Figure size 1008x576 with 1 Axes>"
      ]
     },
     "metadata": {},
     "output_type": "display_data"
    }
   ],
   "source": [
    "sns.set(font_scale=1.25)\n",
    "fig, ax = plt.subplots(figsize=(14,8))\n",
    "sns.distplot(similarity_df['path_similarity_antonym'], ax=ax, label='antonym')\n",
    "sns.distplot(similarity_df['path_similarity_random'], ax=ax, label='random')\n",
    "plt.title('Path Similarity Distributions')\n",
    "plt.xlabel('Path Similarity')\n",
    "ax.legend();"
   ]
  },
  {
   "cell_type": "code",
   "execution_count": 46,
   "metadata": {},
   "outputs": [
    {
     "name": "stderr",
     "output_type": "stream",
     "text": [
      "C:\\Users\\Periwynkle\\Anaconda3\\lib\\site-packages\\matplotlib\\axes\\_axes.py:6462: UserWarning: The 'normed' kwarg is deprecated, and has been replaced by the 'density' kwarg.\n",
      "  warnings.warn(\"The 'normed' kwarg is deprecated, and has been \"\n"
     ]
    },
    {
     "data": {
      "image/png": "[encoded data removed]",
      "text/plain": [
       "<Figure size 1008x576 with 1 Axes>"
      ]
     },
     "metadata": {},
     "output_type": "display_data"
    }
   ],
   "source": [
    "similarity_df_nouns = similarity_df[similarity_df.pos=='noun']\n",
    "\n",
    "fig, ax = plt.subplots(figsize=(14,8))\n",
    "sns.distplot(similarity_df_nouns['path_similarity_antonym'], ax=ax, label='antonym')\n",
    "sns.distplot(similarity_df_nouns['path_similarity_random'], ax=ax, label='random')\n",
    "plt.title('Path Similarity Distributions for Nouns')\n",
    "plt.xlabel('Path Similarity')\n",
    "ax.legend();"
   ]
  },
  {
   "cell_type": "code",
   "execution_count": 47,
   "metadata": {},
   "outputs": [
    {
     "name": "stderr",
     "output_type": "stream",
     "text": [
      "C:\\Users\\Periwynkle\\Anaconda3\\lib\\site-packages\\matplotlib\\axes\\_axes.py:6462: UserWarning: The 'normed' kwarg is deprecated, and has been replaced by the 'density' kwarg.\n",
      "  warnings.warn(\"The 'normed' kwarg is deprecated, and has been \"\n"
     ]
    },
    {
     "data": {
      "image/png": "[encoded data removed]",
      "text/plain": [
       "<Figure size 1008x576 with 1 Axes>"
      ]
     },
     "metadata": {},
     "output_type": "display_data"
    }
   ],
   "source": [
    "similarity_df_verbs = similarity_df[similarity_df.pos=='verb']\n",
    "\n",
    "fig, ax = plt.subplots(figsize=(14,8))\n",
    "sns.distplot(similarity_df_verbs['path_similarity_antonym'], ax=ax, label='antonym')\n",
    "sns.distplot(similarity_df_verbs['path_similarity_random'], ax=ax, label='random')\n",
    "plt.title('Path Similarity Distributions for Verbs')\n",
    "plt.xlabel('Path Similarity')\n",
    "ax.legend();"
   ]
  },
  {
   "cell_type": "markdown",
   "metadata": {},
   "source": [
    "*QUESTION 4: How does typical similarity for antonym pairs compare with similarity for the\n",
    "random pairs? How does the amount of variation (across WORD-SENSES) compare for the\n",
    "antonym pairs vs. the random pairs? Does the nature of this comparison depend on the POS?*\n",
    "\n",
    "Path similarity for antonym pairs is typically greater than for random pairs. There is greater variation for the antonym pairs. The differences are more pronounced for nouns than for verbs."
   ]
  },
  {
   "cell_type": "code",
   "execution_count": 48,
   "metadata": {},
   "outputs": [
    {
     "name": "stdout",
     "output_type": "stream",
     "text": [
      "[2.538973871058276, 2.159484249353372, 2.159484249353372, 2.538973871058276, 2.538973871058276, 1.55814461804655, 0.8602012652231115, 1.8718021769015913, 0.42488319396526597, 2.159484249353372]\n",
      "[1.4403615823901665, 1.466337068793427, 1.0608719606852628, 1.072636802264849, 1.6916760106710724, 1.2396908869280152, 1.466337068793427, 0.5500463369192721, 0.5500463369192721, 0.9555114450274363]\n"
     ]
    }
   ],
   "source": [
    "lch_similarity_antonym = []\n",
    "lch_similarity_random = []\n",
    "\n",
    "for count, (index, row) in enumerate(similarity_df.iterrows()):\n",
    "    antonym_synset = row['antonym'][0].synset()\n",
    "    synset_pos = row['pos']\n",
    "    random_synset = similarity_df[similarity_df.pos==synset_pos].sample(1).index[0]\n",
    "    lch_similarity_antonym.append(index.lch_similarity(antonym_synset))\n",
    "    lch_similarity_random.append(index.lch_similarity(random_synset))\n",
    "    \n",
    "print(lch_similarity_antonym[:10])\n",
    "print(lch_similarity_random[:10])"
   ]
  },
  {
   "cell_type": "code",
   "execution_count": 49,
   "metadata": {},
   "outputs": [
    {
     "name": "stderr",
     "output_type": "stream",
     "text": [
      "C:\\Users\\Periwynkle\\Anaconda3\\lib\\site-packages\\ipykernel\\__main__.py:1: SettingWithCopyWarning: \n",
      "A value is trying to be set on a copy of a slice from a DataFrame.\n",
      "Try using .loc[row_indexer,col_indexer] = value instead\n",
      "\n",
      "See the caveats in the documentation: http://pandas.pydata.org/pandas-docs/stable/indexing.html#indexing-view-versus-copy\n",
      "  if __name__ == '__main__':\n",
      "C:\\Users\\Periwynkle\\Anaconda3\\lib\\site-packages\\ipykernel\\__main__.py:2: SettingWithCopyWarning: \n",
      "A value is trying to be set on a copy of a slice from a DataFrame.\n",
      "Try using .loc[row_indexer,col_indexer] = value instead\n",
      "\n",
      "See the caveats in the documentation: http://pandas.pydata.org/pandas-docs/stable/indexing.html#indexing-view-versus-copy\n",
      "  from ipykernel import kernelapp as app\n"
     ]
    },
    {
     "data": {
      "text/html": [
       "<div>\n",
       "<style scoped>\n",
       "    .dataframe tbody tr th:only-of-type {\n",
       "        vertical-align: middle;\n",
       "    }\n",
       "\n",
       "    .dataframe tbody tr th {\n",
       "        vertical-align: top;\n",
       "    }\n",
       "\n",
       "    .dataframe thead th {\n",
       "        text-align: right;\n",
       "    }\n",
       "</style>\n",
       "<table border=\"1\" class=\"dataframe\">\n",
       "  <thead>\n",
       "    <tr style=\"text-align: right;\">\n",
       "      <th></th>\n",
       "      <th>word</th>\n",
       "      <th>pos</th>\n",
       "      <th>antonym</th>\n",
       "      <th>antonym_count</th>\n",
       "      <th>symmetry_score</th>\n",
       "      <th>path_similarity_antonym</th>\n",
       "      <th>path_similarity_random</th>\n",
       "      <th>lch_similarity_antonym</th>\n",
       "      <th>lch_similarity_random</th>\n",
       "    </tr>\n",
       "    <tr>\n",
       "      <th>synset</th>\n",
       "      <th></th>\n",
       "      <th></th>\n",
       "      <th></th>\n",
       "      <th></th>\n",
       "      <th></th>\n",
       "      <th></th>\n",
       "      <th></th>\n",
       "      <th></th>\n",
       "      <th></th>\n",
       "    </tr>\n",
       "  </thead>\n",
       "  <tbody>\n",
       "    <tr>\n",
       "      <th>Synset('outwardness.n.02')</th>\n",
       "      <td>externality</td>\n",
       "      <td>noun</td>\n",
       "      <td>[Lemma('inwardness.n.03.inwardness')]</td>\n",
       "      <td>1</td>\n",
       "      <td>1.0</td>\n",
       "      <td>0.333333</td>\n",
       "      <td>0.142857</td>\n",
       "      <td>2.538974</td>\n",
       "      <td>1.440362</td>\n",
       "    </tr>\n",
       "    <tr>\n",
       "      <th>Synset('spiritualize.v.01')</th>\n",
       "      <td>spiritualise</td>\n",
       "      <td>verb</td>\n",
       "      <td>[Lemma('literalize.v.01.literalize')]</td>\n",
       "      <td>1</td>\n",
       "      <td>1.0</td>\n",
       "      <td>0.333333</td>\n",
       "      <td>0.125000</td>\n",
       "      <td>2.159484</td>\n",
       "      <td>1.466337</td>\n",
       "    </tr>\n",
       "    <tr>\n",
       "      <th>Synset('overdress.v.02')</th>\n",
       "      <td>dress_up</td>\n",
       "      <td>verb</td>\n",
       "      <td>[Lemma('dress_down.v.02.underdress')]</td>\n",
       "      <td>1</td>\n",
       "      <td>1.0</td>\n",
       "      <td>0.333333</td>\n",
       "      <td>0.166667</td>\n",
       "      <td>2.159484</td>\n",
       "      <td>1.060872</td>\n",
       "    </tr>\n",
       "    <tr>\n",
       "      <th>Synset('professional.n.02')</th>\n",
       "      <td>professional</td>\n",
       "      <td>noun</td>\n",
       "      <td>[Lemma('amateur.n.02.amateur')]</td>\n",
       "      <td>1</td>\n",
       "      <td>1.0</td>\n",
       "      <td>0.333333</td>\n",
       "      <td>0.083333</td>\n",
       "      <td>2.538974</td>\n",
       "      <td>1.072637</td>\n",
       "    </tr>\n",
       "    <tr>\n",
       "      <th>Synset('antagonist.n.03')</th>\n",
       "      <td>antagonist</td>\n",
       "      <td>noun</td>\n",
       "      <td>[Lemma('synergist.n.01.synergist')]</td>\n",
       "      <td>1</td>\n",
       "      <td>1.0</td>\n",
       "      <td>0.333333</td>\n",
       "      <td>0.083333</td>\n",
       "      <td>2.538974</td>\n",
       "      <td>1.691676</td>\n",
       "    </tr>\n",
       "  </tbody>\n",
       "</table>\n",
       "</div>"
      ],
      "text/plain": [
       "                                     word   pos  \\\n",
       "synset                                            \n",
       "Synset('outwardness.n.02')   externality   noun   \n",
       "Synset('spiritualize.v.01')  spiritualise  verb   \n",
       "Synset('overdress.v.02')     dress_up      verb   \n",
       "Synset('professional.n.02')  professional  noun   \n",
       "Synset('antagonist.n.03')    antagonist    noun   \n",
       "\n",
       "                                                           antonym  \\\n",
       "synset                                                               \n",
       "Synset('outwardness.n.02')   [Lemma('inwardness.n.03.inwardness')]   \n",
       "Synset('spiritualize.v.01')  [Lemma('literalize.v.01.literalize')]   \n",
       "Synset('overdress.v.02')     [Lemma('dress_down.v.02.underdress')]   \n",
       "Synset('professional.n.02')  [Lemma('amateur.n.02.amateur')]         \n",
       "Synset('antagonist.n.03')    [Lemma('synergist.n.01.synergist')]     \n",
       "\n",
       "                             antonym_count  symmetry_score  \\\n",
       "synset                                                       \n",
       "Synset('outwardness.n.02')   1              1.0              \n",
       "Synset('spiritualize.v.01')  1              1.0              \n",
       "Synset('overdress.v.02')     1              1.0              \n",
       "Synset('professional.n.02')  1              1.0              \n",
       "Synset('antagonist.n.03')    1              1.0              \n",
       "\n",
       "                             path_similarity_antonym  path_similarity_random  \\\n",
       "synset                                                                         \n",
       "Synset('outwardness.n.02')   0.333333                 0.142857                 \n",
       "Synset('spiritualize.v.01')  0.333333                 0.125000                 \n",
       "Synset('overdress.v.02')     0.333333                 0.166667                 \n",
       "Synset('professional.n.02')  0.333333                 0.083333                 \n",
       "Synset('antagonist.n.03')    0.333333                 0.083333                 \n",
       "\n",
       "                             lch_similarity_antonym  lch_similarity_random  \n",
       "synset                                                                      \n",
       "Synset('outwardness.n.02')   2.538974                1.440362               \n",
       "Synset('spiritualize.v.01')  2.159484                1.466337               \n",
       "Synset('overdress.v.02')     2.159484                1.060872               \n",
       "Synset('professional.n.02')  2.538974                1.072637               \n",
       "Synset('antagonist.n.03')    2.538974                1.691676               "
      ]
     },
     "execution_count": 49,
     "metadata": {},
     "output_type": "execute_result"
    }
   ],
   "source": [
    "similarity_df['lch_similarity_antonym'] = lch_similarity_antonym\n",
    "similarity_df['lch_similarity_random'] = lch_similarity_random\n",
    "similarity_df.head()"
   ]
  },
  {
   "cell_type": "code",
   "execution_count": 50,
   "metadata": {},
   "outputs": [
    {
     "name": "stdout",
     "output_type": "stream",
     "text": [
      "0\n",
      "0\n"
     ]
    }
   ],
   "source": [
    "print(len(similarity_df[similarity_df.lch_similarity_antonym.isnull()]))\n",
    "print(len(similarity_df[similarity_df.lch_similarity_random.isnull()]))"
   ]
  },
  {
   "cell_type": "code",
   "execution_count": 51,
   "metadata": {},
   "outputs": [
    {
     "name": "stderr",
     "output_type": "stream",
     "text": [
      "C:\\Users\\Periwynkle\\Anaconda3\\lib\\site-packages\\matplotlib\\axes\\_axes.py:6462: UserWarning: The 'normed' kwarg is deprecated, and has been replaced by the 'density' kwarg.\n",
      "  warnings.warn(\"The 'normed' kwarg is deprecated, and has been \"\n"
     ]
    },
    {
     "data": {
      "image/png": "[encoded data removed]",
      "text/plain": [
       "<Figure size 1008x576 with 1 Axes>"
      ]
     },
     "metadata": {},
     "output_type": "display_data"
    }
   ],
   "source": [
    "fig, ax = plt.subplots(figsize=(14,8))\n",
    "sns.distplot(similarity_df['lch_similarity_antonym'], ax=ax, label='antonym')\n",
    "sns.distplot(similarity_df['lch_similarity_random'], ax=ax, label='random')\n",
    "plt.title('LCH Similarity Distributions')\n",
    "plt.xlabel('LCH Similarity')\n",
    "ax.legend();"
   ]
  },
  {
   "cell_type": "code",
   "execution_count": 52,
   "metadata": {},
   "outputs": [
    {
     "name": "stderr",
     "output_type": "stream",
     "text": [
      "C:\\Users\\Periwynkle\\Anaconda3\\lib\\site-packages\\matplotlib\\axes\\_axes.py:6462: UserWarning: The 'normed' kwarg is deprecated, and has been replaced by the 'density' kwarg.\n",
      "  warnings.warn(\"The 'normed' kwarg is deprecated, and has been \"\n"
     ]
    },
    {
     "data": {
      "image/png": "[encoded data removed]",
      "text/plain": [
       "<Figure size 1008x576 with 1 Axes>"
      ]
     },
     "metadata": {},
     "output_type": "display_data"
    }
   ],
   "source": [
    "similarity_df_nouns = similarity_df[similarity_df.pos=='noun']\n",
    "\n",
    "fig, ax = plt.subplots(figsize=(14,8))\n",
    "sns.distplot(similarity_df_nouns['lch_similarity_antonym'], ax=ax, label='antonym')\n",
    "sns.distplot(similarity_df_nouns['lch_similarity_random'], ax=ax, label='random')\n",
    "plt.title('LCH Similarity Distributions for Nouns')\n",
    "plt.xlabel('LCH Similarity')\n",
    "ax.legend();"
   ]
  },
  {
   "cell_type": "code",
   "execution_count": 53,
   "metadata": {},
   "outputs": [
    {
     "name": "stderr",
     "output_type": "stream",
     "text": [
      "C:\\Users\\Periwynkle\\Anaconda3\\lib\\site-packages\\matplotlib\\axes\\_axes.py:6462: UserWarning: The 'normed' kwarg is deprecated, and has been replaced by the 'density' kwarg.\n",
      "  warnings.warn(\"The 'normed' kwarg is deprecated, and has been \"\n"
     ]
    },
    {
     "data": {
      "image/png": "[encoded data removed]",
      "text/plain": [
       "<Figure size 1008x576 with 1 Axes>"
      ]
     },
     "metadata": {},
     "output_type": "display_data"
    }
   ],
   "source": [
    "similarity_df_verbs = similarity_df[similarity_df.pos=='verb']\n",
    "\n",
    "fig, ax = plt.subplots(figsize=(14,8))\n",
    "sns.distplot(similarity_df_verbs['lch_similarity_antonym'], ax=ax, label='antonym')\n",
    "sns.distplot(similarity_df_verbs['lch_similarity_random'], ax=ax, label='random')\n",
    "plt.title('LCH Similarity Distributions for Verbs')\n",
    "plt.xlabel('LCH Similarity')\n",
    "ax.legend();"
   ]
  },
  {
   "cell_type": "markdown",
   "metadata": {},
   "source": [
    "*QUESTION 5: How do the results for lch_similarity compare to those for path_similarity?\n",
    "Comment on your results in relation to two different aspects of Budanitsky and Hirst. Are the\n",
    "results for lch_similarity more well-behaved or interpretable than the results for\n",
    "path_similarity? In general, to what extent is the claim that ‘antonymous concepts are\n",
    "dissimilar’ supported?*\n",
    "\n",
    "The distributions are quite similar, but on a larger scale (0 to ~3.6 as opposed to 0 to 1). Thus, the claim that ‘antonymous concepts are dissimilar’ is **not** supported by both similarity metrics, and evidence against this claim is much stronger for nouns than it is for verbs. Note, however, that Budanitsky and Hirst's full claim does acknowledge that antonymous concepts can be semantically related in another interpretation: 'Most of the time, these two uses are consistent with one another, but not always; antonymous concepts are dissimilar and hence distant in one sense, and yet are strongly related semantically and hence close in the other sense'."
   ]
  },
  {
   "cell_type": "code",
   "execution_count": null,
   "metadata": {},
   "outputs": [],
   "source": []
  }
 ],
 "metadata": {
  "anaconda-cloud": {},
  "kernelspec": {
   "display_name": "Python [default]",
   "language": "python",
   "name": "python3"
  },
  "language_info": {
   "codemirror_mode": {
    "name": "ipython",
    "version": 3
   },
   "file_extension": ".py",
   "mimetype": "text/x-python",
   "name": "python",
   "nbconvert_exporter": "python",
   "pygments_lexer": "ipython3",
   "version": "3.5.5"
  }
 },
 "nbformat": 4,
 "nbformat_minor": 2
}
